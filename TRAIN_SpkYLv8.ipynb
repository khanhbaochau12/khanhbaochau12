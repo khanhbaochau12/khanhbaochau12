{
  "cells": [
    {
      "cell_type": "markdown",
      "metadata": {
        "id": "view-in-github",
        "colab_type": "text"
      },
      "source": [
        "<a href=\"https://colab.research.google.com/github/khanhbaochau12/khanhbaochau12/blob/main/TRAIN_SpkYLv8.ipynb\" target=\"_parent\"><img src=\"https://colab.research.google.com/assets/colab-badge.svg\" alt=\"Open In Colab\"/></a>"
      ]
    },
    {
      "cell_type": "code",
      "execution_count": null,
      "metadata": {
        "colab": {
          "base_uri": "https://localhost:8080/"
        },
        "id": "0_ihocw0ftlq",
        "outputId": "1ebec454-c4ef-4753-ee0b-18657184c64f"
      },
      "outputs": [
        {
          "output_type": "stream",
          "name": "stdout",
          "text": [
            "fatal: destination path 'SpikeYOLO' already exists and is not an empty directory.\n"
          ]
        }
      ],
      "source": [
        "!git clone https://github.com/BICLab/SpikeYOLO.git\n"
      ]
    },
    {
      "cell_type": "code",
      "execution_count": null,
      "metadata": {
        "colab": {
          "base_uri": "https://localhost:8080/"
        },
        "id": "pz6oFWRwfypz",
        "outputId": "06435f22-018d-4f82-c9a7-8893594a8c14"
      },
      "outputs": [
        {
          "output_type": "stream",
          "name": "stdout",
          "text": [
            "/content/SpikeYOLO\n"
          ]
        }
      ],
      "source": [
        "%cd SpikeYOLO\n"
      ]
    },
    {
      "cell_type": "code",
      "execution_count": null,
      "metadata": {
        "colab": {
          "base_uri": "https://localhost:8080/"
        },
        "id": "Ay9-yu2kf0pz",
        "outputId": "e3b98008-a90f-4e4d-aa7e-fe93e3c1e23d"
      },
      "outputs": [
        {
          "output_type": "stream",
          "name": "stdout",
          "text": [
            "Requirement already satisfied: matplotlib>=3.3.0 in /usr/local/lib/python3.10/dist-packages (from -r requirements.txt (line 5)) (3.8.0)\n",
            "Requirement already satisfied: numpy>=1.22.2 in /usr/local/lib/python3.10/dist-packages (from -r requirements.txt (line 6)) (1.26.4)\n",
            "Requirement already satisfied: opencv-python>=4.6.0 in /usr/local/lib/python3.10/dist-packages (from -r requirements.txt (line 7)) (4.10.0.84)\n",
            "Requirement already satisfied: pillow>=7.1.2 in /usr/local/lib/python3.10/dist-packages (from -r requirements.txt (line 8)) (11.0.0)\n",
            "Requirement already satisfied: pyyaml>=5.3.1 in /usr/local/lib/python3.10/dist-packages (from -r requirements.txt (line 9)) (6.0.2)\n",
            "Requirement already satisfied: requests>=2.23.0 in /usr/local/lib/python3.10/dist-packages (from -r requirements.txt (line 10)) (2.32.3)\n",
            "Requirement already satisfied: scipy>=1.4.1 in /usr/local/lib/python3.10/dist-packages (from -r requirements.txt (line 11)) (1.13.1)\n",
            "Requirement already satisfied: torch>=1.8.0 in /usr/local/lib/python3.10/dist-packages (from -r requirements.txt (line 12)) (2.5.1+cu121)\n",
            "Requirement already satisfied: torchvision>=0.9.0 in /usr/local/lib/python3.10/dist-packages (from -r requirements.txt (line 13)) (0.20.1+cu121)\n",
            "Requirement already satisfied: tqdm>=4.64.0 in /usr/local/lib/python3.10/dist-packages (from -r requirements.txt (line 14)) (4.67.1)\n",
            "Requirement already satisfied: pandas>=1.1.4 in /usr/local/lib/python3.10/dist-packages (from -r requirements.txt (line 23)) (2.2.2)\n",
            "Requirement already satisfied: seaborn>=0.11.0 in /usr/local/lib/python3.10/dist-packages (from -r requirements.txt (line 24)) (0.13.2)\n",
            "Requirement already satisfied: psutil in /usr/local/lib/python3.10/dist-packages (from -r requirements.txt (line 39)) (5.9.5)\n",
            "Requirement already satisfied: py-cpuinfo in /usr/local/lib/python3.10/dist-packages (from -r requirements.txt (line 40)) (9.0.0)\n",
            "Requirement already satisfied: thop>=0.1.1 in /usr/local/lib/python3.10/dist-packages (from -r requirements.txt (line 41)) (0.1.1.post2209072238)\n",
            "Requirement already satisfied: contourpy>=1.0.1 in /usr/local/lib/python3.10/dist-packages (from matplotlib>=3.3.0->-r requirements.txt (line 5)) (1.3.1)\n",
            "Requirement already satisfied: cycler>=0.10 in /usr/local/lib/python3.10/dist-packages (from matplotlib>=3.3.0->-r requirements.txt (line 5)) (0.12.1)\n",
            "Requirement already satisfied: fonttools>=4.22.0 in /usr/local/lib/python3.10/dist-packages (from matplotlib>=3.3.0->-r requirements.txt (line 5)) (4.55.3)\n",
            "Requirement already satisfied: kiwisolver>=1.0.1 in /usr/local/lib/python3.10/dist-packages (from matplotlib>=3.3.0->-r requirements.txt (line 5)) (1.4.7)\n",
            "Requirement already satisfied: packaging>=20.0 in /usr/local/lib/python3.10/dist-packages (from matplotlib>=3.3.0->-r requirements.txt (line 5)) (24.2)\n",
            "Requirement already satisfied: pyparsing>=2.3.1 in /usr/local/lib/python3.10/dist-packages (from matplotlib>=3.3.0->-r requirements.txt (line 5)) (3.2.0)\n",
            "Requirement already satisfied: python-dateutil>=2.7 in /usr/local/lib/python3.10/dist-packages (from matplotlib>=3.3.0->-r requirements.txt (line 5)) (2.8.2)\n",
            "Requirement already satisfied: charset-normalizer<4,>=2 in /usr/local/lib/python3.10/dist-packages (from requests>=2.23.0->-r requirements.txt (line 10)) (3.4.0)\n",
            "Requirement already satisfied: idna<4,>=2.5 in /usr/local/lib/python3.10/dist-packages (from requests>=2.23.0->-r requirements.txt (line 10)) (3.10)\n",
            "Requirement already satisfied: urllib3<3,>=1.21.1 in /usr/local/lib/python3.10/dist-packages (from requests>=2.23.0->-r requirements.txt (line 10)) (2.2.3)\n",
            "Requirement already satisfied: certifi>=2017.4.17 in /usr/local/lib/python3.10/dist-packages (from requests>=2.23.0->-r requirements.txt (line 10)) (2024.12.14)\n",
            "Requirement already satisfied: filelock in /usr/local/lib/python3.10/dist-packages (from torch>=1.8.0->-r requirements.txt (line 12)) (3.16.1)\n",
            "Requirement already satisfied: typing-extensions>=4.8.0 in /usr/local/lib/python3.10/dist-packages (from torch>=1.8.0->-r requirements.txt (line 12)) (4.12.2)\n",
            "Requirement already satisfied: networkx in /usr/local/lib/python3.10/dist-packages (from torch>=1.8.0->-r requirements.txt (line 12)) (3.4.2)\n",
            "Requirement already satisfied: jinja2 in /usr/local/lib/python3.10/dist-packages (from torch>=1.8.0->-r requirements.txt (line 12)) (3.1.4)\n",
            "Requirement already satisfied: fsspec in /usr/local/lib/python3.10/dist-packages (from torch>=1.8.0->-r requirements.txt (line 12)) (2024.10.0)\n",
            "Requirement already satisfied: sympy==1.13.1 in /usr/local/lib/python3.10/dist-packages (from torch>=1.8.0->-r requirements.txt (line 12)) (1.13.1)\n",
            "Requirement already satisfied: mpmath<1.4,>=1.1.0 in /usr/local/lib/python3.10/dist-packages (from sympy==1.13.1->torch>=1.8.0->-r requirements.txt (line 12)) (1.3.0)\n",
            "Requirement already satisfied: pytz>=2020.1 in /usr/local/lib/python3.10/dist-packages (from pandas>=1.1.4->-r requirements.txt (line 23)) (2024.2)\n",
            "Requirement already satisfied: tzdata>=2022.7 in /usr/local/lib/python3.10/dist-packages (from pandas>=1.1.4->-r requirements.txt (line 23)) (2024.2)\n",
            "Requirement already satisfied: six>=1.5 in /usr/local/lib/python3.10/dist-packages (from python-dateutil>=2.7->matplotlib>=3.3.0->-r requirements.txt (line 5)) (1.17.0)\n",
            "Requirement already satisfied: MarkupSafe>=2.0 in /usr/local/lib/python3.10/dist-packages (from jinja2->torch>=1.8.0->-r requirements.txt (line 12)) (3.0.2)\n"
          ]
        }
      ],
      "source": [
        "!pip install -r requirements.txt\n"
      ]
    },
    {
      "cell_type": "code",
      "execution_count": null,
      "metadata": {
        "colab": {
          "base_uri": "https://localhost:8080/"
        },
        "id": "d6PYTNeQugdc",
        "outputId": "b65fe47b-c6e3-4df1-f541-5c4ccac3ea29"
      },
      "outputs": [
        {
          "output_type": "stream",
          "name": "stdout",
          "text": [
            "1\n",
            "True\n"
          ]
        }
      ],
      "source": [
        "import torch\n",
        "print(torch.cuda.device_count())  # Số lượng GPU\n",
        "print(torch.cuda.is_available())  # GPU có hoạt động không"
      ]
    },
    {
      "cell_type": "code",
      "execution_count": null,
      "metadata": {
        "colab": {
          "base_uri": "https://localhost:8080/"
        },
        "id": "fQ3AXAMNgbAb",
        "outputId": "35038fb1-e4ba-497d-ecee-a207c16e860a"
      },
      "outputs": [
        {
          "output_type": "stream",
          "name": "stdout",
          "text": [
            "Requirement already satisfied: torchinfo in /usr/local/lib/python3.10/dist-packages (1.8.0)\n"
          ]
        }
      ],
      "source": [
        "!pip install torchinfo"
      ]
    },
    {
      "cell_type": "code",
      "execution_count": null,
      "metadata": {
        "colab": {
          "base_uri": "https://localhost:8080/"
        },
        "id": "FPygT9pjgzrz",
        "outputId": "d232a461-56a6-43b9-8a3a-03d4f8adc2ec"
      },
      "outputs": [
        {
          "output_type": "stream",
          "name": "stdout",
          "text": [
            "Requirement already satisfied: spikingjelly in /usr/local/lib/python3.10/dist-packages (0.0.0.0.14)\n",
            "Requirement already satisfied: torch in /usr/local/lib/python3.10/dist-packages (from spikingjelly) (2.5.1+cu121)\n",
            "Requirement already satisfied: matplotlib in /usr/local/lib/python3.10/dist-packages (from spikingjelly) (3.8.0)\n",
            "Requirement already satisfied: numpy in /usr/local/lib/python3.10/dist-packages (from spikingjelly) (1.26.4)\n",
            "Requirement already satisfied: tqdm in /usr/local/lib/python3.10/dist-packages (from spikingjelly) (4.67.1)\n",
            "Requirement already satisfied: torchvision in /usr/local/lib/python3.10/dist-packages (from spikingjelly) (0.20.1+cu121)\n",
            "Requirement already satisfied: scipy in /usr/local/lib/python3.10/dist-packages (from spikingjelly) (1.13.1)\n",
            "Requirement already satisfied: contourpy>=1.0.1 in /usr/local/lib/python3.10/dist-packages (from matplotlib->spikingjelly) (1.3.1)\n",
            "Requirement already satisfied: cycler>=0.10 in /usr/local/lib/python3.10/dist-packages (from matplotlib->spikingjelly) (0.12.1)\n",
            "Requirement already satisfied: fonttools>=4.22.0 in /usr/local/lib/python3.10/dist-packages (from matplotlib->spikingjelly) (4.55.3)\n",
            "Requirement already satisfied: kiwisolver>=1.0.1 in /usr/local/lib/python3.10/dist-packages (from matplotlib->spikingjelly) (1.4.7)\n",
            "Requirement already satisfied: packaging>=20.0 in /usr/local/lib/python3.10/dist-packages (from matplotlib->spikingjelly) (24.2)\n",
            "Requirement already satisfied: pillow>=6.2.0 in /usr/local/lib/python3.10/dist-packages (from matplotlib->spikingjelly) (11.0.0)\n",
            "Requirement already satisfied: pyparsing>=2.3.1 in /usr/local/lib/python3.10/dist-packages (from matplotlib->spikingjelly) (3.2.0)\n",
            "Requirement already satisfied: python-dateutil>=2.7 in /usr/local/lib/python3.10/dist-packages (from matplotlib->spikingjelly) (2.8.2)\n",
            "Requirement already satisfied: filelock in /usr/local/lib/python3.10/dist-packages (from torch->spikingjelly) (3.16.1)\n",
            "Requirement already satisfied: typing-extensions>=4.8.0 in /usr/local/lib/python3.10/dist-packages (from torch->spikingjelly) (4.12.2)\n",
            "Requirement already satisfied: networkx in /usr/local/lib/python3.10/dist-packages (from torch->spikingjelly) (3.4.2)\n",
            "Requirement already satisfied: jinja2 in /usr/local/lib/python3.10/dist-packages (from torch->spikingjelly) (3.1.4)\n",
            "Requirement already satisfied: fsspec in /usr/local/lib/python3.10/dist-packages (from torch->spikingjelly) (2024.10.0)\n",
            "Requirement already satisfied: sympy==1.13.1 in /usr/local/lib/python3.10/dist-packages (from torch->spikingjelly) (1.13.1)\n",
            "Requirement already satisfied: mpmath<1.4,>=1.1.0 in /usr/local/lib/python3.10/dist-packages (from sympy==1.13.1->torch->spikingjelly) (1.3.0)\n",
            "Requirement already satisfied: six>=1.5 in /usr/local/lib/python3.10/dist-packages (from python-dateutil>=2.7->matplotlib->spikingjelly) (1.17.0)\n",
            "Requirement already satisfied: MarkupSafe>=2.0 in /usr/local/lib/python3.10/dist-packages (from jinja2->torch->spikingjelly) (3.0.2)\n"
          ]
        }
      ],
      "source": [
        "!pip install spikingjelly"
      ]
    },
    {
      "cell_type": "code",
      "execution_count": null,
      "metadata": {
        "colab": {
          "base_uri": "https://localhost:8080/"
        },
        "id": "gqR006EAg86D",
        "outputId": "205441b2-004f-456a-ed0d-c6e08e235bf0"
      },
      "outputs": [
        {
          "output_type": "stream",
          "name": "stdout",
          "text": [
            "Requirement already satisfied: timm in /usr/local/lib/python3.10/dist-packages (1.0.12)\n",
            "Requirement already satisfied: torch in /usr/local/lib/python3.10/dist-packages (from timm) (2.5.1+cu121)\n",
            "Requirement already satisfied: torchvision in /usr/local/lib/python3.10/dist-packages (from timm) (0.20.1+cu121)\n",
            "Requirement already satisfied: pyyaml in /usr/local/lib/python3.10/dist-packages (from timm) (6.0.2)\n",
            "Requirement already satisfied: huggingface_hub in /usr/local/lib/python3.10/dist-packages (from timm) (0.27.0)\n",
            "Requirement already satisfied: safetensors in /usr/local/lib/python3.10/dist-packages (from timm) (0.4.5)\n",
            "Requirement already satisfied: filelock in /usr/local/lib/python3.10/dist-packages (from huggingface_hub->timm) (3.16.1)\n",
            "Requirement already satisfied: fsspec>=2023.5.0 in /usr/local/lib/python3.10/dist-packages (from huggingface_hub->timm) (2024.10.0)\n",
            "Requirement already satisfied: packaging>=20.9 in /usr/local/lib/python3.10/dist-packages (from huggingface_hub->timm) (24.2)\n",
            "Requirement already satisfied: requests in /usr/local/lib/python3.10/dist-packages (from huggingface_hub->timm) (2.32.3)\n",
            "Requirement already satisfied: tqdm>=4.42.1 in /usr/local/lib/python3.10/dist-packages (from huggingface_hub->timm) (4.67.1)\n",
            "Requirement already satisfied: typing-extensions>=3.7.4.3 in /usr/local/lib/python3.10/dist-packages (from huggingface_hub->timm) (4.12.2)\n",
            "Requirement already satisfied: networkx in /usr/local/lib/python3.10/dist-packages (from torch->timm) (3.4.2)\n",
            "Requirement already satisfied: jinja2 in /usr/local/lib/python3.10/dist-packages (from torch->timm) (3.1.4)\n",
            "Requirement already satisfied: sympy==1.13.1 in /usr/local/lib/python3.10/dist-packages (from torch->timm) (1.13.1)\n",
            "Requirement already satisfied: mpmath<1.4,>=1.1.0 in /usr/local/lib/python3.10/dist-packages (from sympy==1.13.1->torch->timm) (1.3.0)\n",
            "Requirement already satisfied: numpy in /usr/local/lib/python3.10/dist-packages (from torchvision->timm) (1.26.4)\n",
            "Requirement already satisfied: pillow!=8.3.*,>=5.3.0 in /usr/local/lib/python3.10/dist-packages (from torchvision->timm) (11.0.0)\n",
            "Requirement already satisfied: MarkupSafe>=2.0 in /usr/local/lib/python3.10/dist-packages (from jinja2->torch->timm) (3.0.2)\n",
            "Requirement already satisfied: charset-normalizer<4,>=2 in /usr/local/lib/python3.10/dist-packages (from requests->huggingface_hub->timm) (3.4.0)\n",
            "Requirement already satisfied: idna<4,>=2.5 in /usr/local/lib/python3.10/dist-packages (from requests->huggingface_hub->timm) (3.10)\n",
            "Requirement already satisfied: urllib3<3,>=1.21.1 in /usr/local/lib/python3.10/dist-packages (from requests->huggingface_hub->timm) (2.2.3)\n",
            "Requirement already satisfied: certifi>=2017.4.17 in /usr/local/lib/python3.10/dist-packages (from requests->huggingface_hub->timm) (2024.12.14)\n"
          ]
        }
      ],
      "source": [
        "!pip install timm"
      ]
    },
    {
      "cell_type": "code",
      "execution_count": null,
      "metadata": {
        "colab": {
          "base_uri": "https://localhost:8080/"
        },
        "id": "rfmveYi0hBWr",
        "outputId": "ca498997-abc6-4ae6-e770-187bcc0e8510"
      },
      "outputs": [
        {
          "output_type": "stream",
          "name": "stdout",
          "text": [
            "Requirement already satisfied: einops in /usr/local/lib/python3.10/dist-packages (0.8.0)\n"
          ]
        }
      ],
      "source": [
        "!pip install einops"
      ]
    },
    {
      "cell_type": "code",
      "execution_count": null,
      "metadata": {
        "colab": {
          "base_uri": "https://localhost:8080/",
          "height": 17
        },
        "id": "SQNfCz4lhJ8S",
        "outputId": "e6c503ac-f4df-44d4-9685-9779b8dfef6a"
      },
      "outputs": [
        {
          "output_type": "display_data",
          "data": {
            "text/plain": [
              "<IPython.core.display.Javascript object>"
            ],
            "application/javascript": [
              "\n",
              "      ((filepath) => {{\n",
              "        if (!google.colab.kernel.accessAllowed) {{\n",
              "          return;\n",
              "        }}\n",
              "        google.colab.files.view(filepath);\n",
              "      }})(\"/content/SpikeYOLO/train.py\")"
            ]
          },
          "metadata": {}
        }
      ],
      "source": [
        "from google.colab import files\n",
        "files.view('/content/SpikeYOLO/train.py')\n"
      ]
    },
    {
      "cell_type": "code",
      "execution_count": null,
      "metadata": {
        "colab": {
          "base_uri": "https://localhost:8080/"
        },
        "id": "ddCzqIGQ1Xkd",
        "outputId": "f1d174f5-9dcd-4c45-a978-42c82fb1cfa9"
      },
      "outputs": [
        {
          "output_type": "stream",
          "name": "stdout",
          "text": [
            "/content/coco_subset\n"
          ]
        }
      ],
      "source": [
        "# Tạo thư mục chứa dữ liệu COCO (chỉ một phần)\n",
        "!mkdir -p /content/coco_subset/images /content/coco_subset/labels\n",
        "%cd /content/coco_subset\n"
      ]
    },
    {
      "cell_type": "code",
      "execution_count": null,
      "metadata": {
        "colab": {
          "base_uri": "https://localhost:8080/"
        },
        "id": "H6E4src3GDyc",
        "outputId": "2f249919-ab76-466b-a4ea-33f4c38d7a4f"
      },
      "outputs": [
        {
          "output_type": "stream",
          "name": "stdout",
          "text": [
            "/content/:\n",
            "coco_subset  sample_data  SpikeYOLO\n",
            "\n",
            "/content/coco_subset:\n",
            "annotations  coco.yaml\timages\tlabels\n",
            "\n",
            "/content/coco_subset/annotations:\n",
            "annotations\n",
            "\n",
            "/content/coco_subset/annotations/annotations:\n",
            "captions_train2017.json  instances_train2017.json  person_keypoints_train2017.json\n",
            "captions_val2017.json\t instances_val2017.json    person_keypoints_val2017.json\n",
            "\n",
            "/content/coco_subset/images:\n",
            "train2017\n",
            "\n",
            "/content/coco_subset/images/train2017:\n",
            "000000000009.jpg  000000000109.jpg  000000000241.jpg  000000000357.jpg\t000000000443.jpg\n",
            "000000000025.jpg  000000000110.jpg  000000000247.jpg  000000000359.jpg\t000000000446.jpg\n",
            "000000000030.jpg  000000000113.jpg  000000000250.jpg  000000000360.jpg\t000000000450.jpg\n",
            "000000000034.jpg  000000000127.jpg  000000000257.jpg  000000000368.jpg\t000000000459.jpg\n",
            "000000000036.jpg  000000000133.jpg  000000000260.jpg  000000000370.jpg\t000000000471.jpg\n",
            "000000000042.jpg  000000000136.jpg  000000000263.jpg  000000000382.jpg\t000000000472.jpg\n",
            "000000000049.jpg  000000000138.jpg  000000000283.jpg  000000000384.jpg\t000000000474.jpg\n",
            "000000000061.jpg  000000000142.jpg  000000000294.jpg  000000000387.jpg\t000000000486.jpg\n",
            "000000000064.jpg  000000000143.jpg  000000000307.jpg  000000000389.jpg\t000000000488.jpg\n",
            "000000000071.jpg  000000000144.jpg  000000000308.jpg  000000000394.jpg\t000000000490.jpg\n",
            "000000000072.jpg  000000000149.jpg  000000000309.jpg  000000000395.jpg\t000000000491.jpg\n",
            "000000000073.jpg  000000000151.jpg  000000000312.jpg  000000000397.jpg\t000000000502.jpg\n",
            "000000000074.jpg  000000000154.jpg  000000000315.jpg  000000000400.jpg\t000000000508.jpg\n",
            "000000000077.jpg  000000000164.jpg  000000000321.jpg  000000000404.jpg\t000000000510.jpg\n",
            "000000000078.jpg  000000000165.jpg  000000000322.jpg  000000000415.jpg\t000000000514.jpg\n",
            "000000000081.jpg  000000000192.jpg  000000000326.jpg  000000000419.jpg\t000000000520.jpg\n",
            "000000000086.jpg  000000000194.jpg  000000000328.jpg  000000000428.jpg\t000000000529.jpg\n",
            "000000000089.jpg  000000000196.jpg  000000000332.jpg  000000000431.jpg\t000000000531.jpg\n",
            "000000000092.jpg  000000000201.jpg  000000000338.jpg  000000000436.jpg\t000000000532.jpg\n",
            "000000000094.jpg  000000000208.jpg  000000000349.jpg  000000000438.jpg\t000000000536.jpg\n",
            "\n",
            "/content/coco_subset/labels:\n",
            "\n",
            "/content/sample_data:\n",
            "anscombe.json\t\t     california_housing_train.csv  mnist_train_small.csv\n",
            "california_housing_test.csv  mnist_test.csv\t\t   README.md\n",
            "\n",
            "/content/SpikeYOLO:\n",
            "coco2yolo.py  docs\t\tLICENSE      picture\t       setup.cfg\t   train.py\n",
            "config\t      environment.yaml\tlogs_23M     README.md\t       setup.py\t\t   train.sh\n",
            "detect.py     examples\t\tMANIFEST.in  requirements.txt  SpikeYOLO_for_Gen1  ultralytics\n",
            "docker\t      figure1.jpg\tmkdocs.yml   runs\t       test.py\t\t   wandb\n",
            "\n",
            "/content/SpikeYOLO/config:\n",
            "Arial.ttf  settings.yaml\n",
            "\n",
            "/content/SpikeYOLO/docker:\n",
            "Dockerfile\t  Dockerfile-conda  Dockerfile-jetson  Dockerfile-runner\n",
            "Dockerfile-arm64  Dockerfile-cpu    Dockerfile-python\n",
            "\n",
            "/content/SpikeYOLO/docs:\n",
            "assets\t\t    datasets  hub\t    models     quickstart.md  robots.txt   tasks\n",
            "build_reference.py  guides    index.md\t    modes      README.md      SECURITY.md  usage\n",
            "CNAME\t\t    help      integrations  overrides  reference      stylesheets  yolov5\n",
            "\n",
            "/content/SpikeYOLO/docs/assets:\n",
            "favicon.ico\n",
            "\n",
            "/content/SpikeYOLO/docs/datasets:\n",
            "classify  detect  index.md  obb  pose  segment\ttrack\n",
            "\n",
            "/content/SpikeYOLO/docs/datasets/classify:\n",
            "caltech101.md  cifar100.md  fashion-mnist.md  imagenet.md    imagewoof.md  mnist.md\n",
            "caltech256.md  cifar10.md   imagenet10.md     imagenette.md  index.md\n",
            "\n",
            "/content/SpikeYOLO/docs/datasets/detect:\n",
            "argoverse.md  coco.md\t\t  index.md\t open-images-v7.md  visdrone.md  xview.md\n",
            "coco8.md      globalwheat2020.md  objects365.md  sku-110k.md\t    voc.md\n",
            "\n",
            "/content/SpikeYOLO/docs/datasets/obb:\n",
            "dota-v2.md  index.md\n",
            "\n",
            "/content/SpikeYOLO/docs/datasets/pose:\n",
            "coco8-pose.md  coco.md\tindex.md  tiger-pose.md\n",
            "\n",
            "/content/SpikeYOLO/docs/datasets/segment:\n",
            "coco8-seg.md  coco.md  index.md\n",
            "\n",
            "/content/SpikeYOLO/docs/datasets/track:\n",
            "index.md\n",
            "\n",
            "/content/SpikeYOLO/docs/guides:\n",
            "azureml-quickstart.md  hyperparameter-tuning.md   raspberry-pi.md\t      yolo-common-issues.md\n",
            "conda-quickstart.md    index.md\t\t\t  sahi-tiled-inference.md\n",
            "docker-quickstart.md   kfold-cross-validation.md  triton-inference-server.md\n",
            "\n",
            "/content/SpikeYOLO/docs/help:\n",
            "CI.md\tcode_of_conduct.md  environmental-health-safety.md  index.md\n",
            "CLA.md\tcontributing.md     FAQ.md\t\t\t    minimum_reproducible_example.md\n",
            "\n",
            "/content/SpikeYOLO/docs/hub:\n",
            "app\t     index.md\t       integrations.md\tprojects.md\n",
            "datasets.md  inference_api.md  models.md\tquickstart.md\n",
            "\n",
            "/content/SpikeYOLO/docs/hub/app:\n",
            "android.md  index.md  ios.md\n",
            "\n",
            "/content/SpikeYOLO/docs/integrations:\n",
            "index.md  openvino.md  ray-tune.md  roboflow.md\n",
            "\n",
            "/content/SpikeYOLO/docs/models:\n",
            "fast-sam.md  mobile-sam.md  sam.md\t yolov3.md  yolov5.md  yolov7.md\n",
            "index.md     rtdetr.md\t    yolo-nas.md  yolov4.md  yolov6.md  yolov8.md\n",
            "\n",
            "/content/SpikeYOLO/docs/modes:\n",
            "benchmark.md  export.md  index.md  predict.md  track.md  train.md  val.md\n",
            "\n",
            "/content/SpikeYOLO/docs/overrides:\n",
            "partials\n",
            "\n",
            "/content/SpikeYOLO/docs/overrides/partials:\n",
            "comments.html  source-file.html\n",
            "\n",
            "/content/SpikeYOLO/docs/reference:\n",
            "cfg  data  engine  hub\tmodels\tnn  trackers  utils\n",
            "\n",
            "/content/SpikeYOLO/docs/reference/cfg:\n",
            "__init__.md\n",
            "\n",
            "/content/SpikeYOLO/docs/reference/data:\n",
            "annotator.md  augment.md  base.md  build.md  converter.md  dataset.md  loaders.md  utils.md\n",
            "\n",
            "/content/SpikeYOLO/docs/reference/engine:\n",
            "exporter.md  model.md  predictor.md  results.md  trainer.md  tuner.md  validator.md\n",
            "\n",
            "/content/SpikeYOLO/docs/reference/hub:\n",
            "auth.md  __init__.md  session.md  utils.md\n",
            "\n",
            "/content/SpikeYOLO/docs/reference/models:\n",
            "fastsam  nas  rtdetr  sam  utils  yolo\n",
            "\n",
            "/content/SpikeYOLO/docs/reference/models/fastsam:\n",
            "model.md  predict.md  prompt.md  utils.md  val.md\n",
            "\n",
            "/content/SpikeYOLO/docs/reference/models/nas:\n",
            "model.md  predict.md  val.md\n",
            "\n",
            "/content/SpikeYOLO/docs/reference/models/rtdetr:\n",
            "model.md  predict.md  train.md\tval.md\n",
            "\n",
            "/content/SpikeYOLO/docs/reference/models/sam:\n",
            "amg.md\tbuild.md  model.md  modules  predict.md\n",
            "\n",
            "/content/SpikeYOLO/docs/reference/models/sam/modules:\n",
            "decoders.md  encoders.md  sam.md  tiny_encoder.md  transformer.md\n",
            "\n",
            "/content/SpikeYOLO/docs/reference/models/utils:\n",
            "loss.md  ops.md\n",
            "\n",
            "/content/SpikeYOLO/docs/reference/models/yolo:\n",
            "classify  detect  model.md  pose  segment\n",
            "\n",
            "/content/SpikeYOLO/docs/reference/models/yolo/classify:\n",
            "predict.md  train.md  val.md\n",
            "\n",
            "/content/SpikeYOLO/docs/reference/models/yolo/detect:\n",
            "predict.md  train.md  val.md\n",
            "\n",
            "/content/SpikeYOLO/docs/reference/models/yolo/pose:\n",
            "predict.md  train.md  val.md\n",
            "\n",
            "/content/SpikeYOLO/docs/reference/models/yolo/segment:\n",
            "predict.md  train.md  val.md\n",
            "\n",
            "/content/SpikeYOLO/docs/reference/nn:\n",
            "autobackend.md\tmodules  tasks.md\n",
            "\n",
            "/content/SpikeYOLO/docs/reference/nn/modules:\n",
            "block.md  conv.md  head.md  transformer.md  utils.md\n",
            "\n",
            "/content/SpikeYOLO/docs/reference/trackers:\n",
            "basetrack.md  bot_sort.md  byte_tracker.md  track.md  utils\n",
            "\n",
            "/content/SpikeYOLO/docs/reference/trackers/utils:\n",
            "gmc.md\tkalman_filter.md  matching.md\n",
            "\n",
            "/content/SpikeYOLO/docs/reference/utils:\n",
            "autobatch.md   checks.md     errors.md\t  instance.md  ops.md\t    tal.md\t    tuner.md\n",
            "benchmarks.md  dist.md\t     files.md\t  loss.md      patches.md   torch_utils.md\n",
            "callbacks      downloads.md  __init__.md  metrics.md   plotting.md  triton.md\n",
            "\n",
            "/content/SpikeYOLO/docs/reference/utils/callbacks:\n",
            "base.md     comet.md  hub.md\t neptune.md  tensorboard.md\n",
            "clearml.md  dvc.md    mlflow.md  raytune.md  wb.md\n",
            "\n",
            "/content/SpikeYOLO/docs/stylesheets:\n",
            "style.css\n",
            "\n",
            "/content/SpikeYOLO/docs/tasks:\n",
            "classify.md  detect.md\tindex.md  pose.md  segment.md\n",
            "\n",
            "/content/SpikeYOLO/docs/usage:\n",
            "callbacks.md  cfg.md  cli.md  engine.md  python.md\n",
            "\n",
            "/content/SpikeYOLO/docs/yolov5:\n",
            "environments  index.md\tquickstart_tutorial.md\ttutorials\n",
            "\n",
            "/content/SpikeYOLO/docs/yolov5/environments:\n",
            "aws_quickstart_tutorial.md\tdocker_image_quickstart_tutorial.md\n",
            "azureml_quickstart_tutorial.md\tgoogle_cloud_quickstart_tutorial.md\n",
            "\n",
            "/content/SpikeYOLO/docs/yolov5/tutorials:\n",
            "architecture_description.md\tneural_magic_pruning_quantization.md\n",
            "clearml_logging_integration.md\tpytorch_hub_model_loading.md\n",
            "comet_logging_integration.md\troboflow_datasets_integration.md\n",
            "hyperparameter_evolution.md\trunning_on_jetson_nano.md\n",
            "model_ensembling.md\t\ttest_time_augmentation.md\n",
            "model_export.md\t\t\ttips_for_best_training_results.md\n",
            "model_pruning_and_sparsity.md\ttrain_custom_data.md\n",
            "multi_gpu_training.md\t\ttransfer_learning_with_frozen_layers.md\n",
            "\n",
            "/content/SpikeYOLO/examples:\n",
            "hub.ipynb\tYOLOv8-CPP-Inference\tYOLOv8-OpenCV-ONNX-Python\n",
            "README.md\tYOLOv8-ONNXRuntime\tYOLOv8-Region-Counter\n",
            "tutorial.ipynb\tYOLOv8-ONNXRuntime-CPP\tYOLOv8-SAHI-Inference-Video\n",
            "\n",
            "/content/SpikeYOLO/examples/YOLOv8-CPP-Inference:\n",
            "CMakeLists.txt\tinference.cpp  inference.h  main.cpp  README.md\n",
            "\n",
            "/content/SpikeYOLO/examples/YOLOv8-ONNXRuntime:\n",
            "main.py  README.md\n",
            "\n",
            "/content/SpikeYOLO/examples/YOLOv8-ONNXRuntime-CPP:\n",
            "CMakeLists.txt\tinference.cpp  inference.h  main.cpp  README.md\n",
            "\n",
            "/content/SpikeYOLO/examples/YOLOv8-OpenCV-ONNX-Python:\n",
            "main.py  README.md\n",
            "\n",
            "/content/SpikeYOLO/examples/YOLOv8-Region-Counter:\n",
            "readme.md  yolov8_region_counter.py\n",
            "\n",
            "/content/SpikeYOLO/examples/YOLOv8-SAHI-Inference-Video:\n",
            "readme.md  yolov8_sahi.py\n",
            "\n",
            "/content/SpikeYOLO/logs_23M:\n",
            "args.yaml     P_curve.png   R_curve.png  results.png\t   val_batch0_labels.jpg\n",
            "F1_curve.png  PR_curve.png  results.csv  train_batch0.jpg  val_batch0_pred.jpg\n",
            "\n",
            "/content/SpikeYOLO/picture:\n",
            "figure1.jpg\n",
            "\n",
            "/content/SpikeYOLO/runs:\n",
            "detect\n",
            "\n",
            "/content/SpikeYOLO/runs/detect:\n",
            "train  train2  train3  train4  train5  train6  train7  train8  train9\n",
            "\n",
            "/content/SpikeYOLO/runs/detect/train:\n",
            "args.yaml  events.out.tfevents.1739882221.90a7a3e53e38.7988.0  weights\n",
            "\n",
            "/content/SpikeYOLO/runs/detect/train/weights:\n",
            "\n",
            "/content/SpikeYOLO/runs/detect/train2:\n",
            "args.yaml  events.out.tfevents.1739882687.90a7a3e53e38.13473.0\tweights\n",
            "\n",
            "/content/SpikeYOLO/runs/detect/train2/weights:\n",
            "\n",
            "/content/SpikeYOLO/runs/detect/train3:\n",
            "args.yaml  events.out.tfevents.1739882947.90a7a3e53e38.14619.0\tweights\n",
            "\n",
            "/content/SpikeYOLO/runs/detect/train3/weights:\n",
            "\n",
            "/content/SpikeYOLO/runs/detect/train4:\n",
            "args.yaml  events.out.tfevents.1739883027.90a7a3e53e38.14996.0\tweights\n",
            "\n",
            "/content/SpikeYOLO/runs/detect/train4/weights:\n",
            "\n",
            "/content/SpikeYOLO/runs/detect/train5:\n",
            "args.yaml  events.out.tfevents.1739883203.90a7a3e53e38.15771.0\tweights\n",
            "\n",
            "/content/SpikeYOLO/runs/detect/train5/weights:\n",
            "\n",
            "/content/SpikeYOLO/runs/detect/train6:\n",
            "args.yaml  events.out.tfevents.1739883372.90a7a3e53e38.16503.0\tweights\n",
            "\n",
            "/content/SpikeYOLO/runs/detect/train6/weights:\n",
            "\n",
            "/content/SpikeYOLO/runs/detect/train7:\n",
            "args.yaml  events.out.tfevents.1739883578.90a7a3e53e38.17442.0\tweights\n",
            "\n",
            "/content/SpikeYOLO/runs/detect/train7/weights:\n",
            "\n",
            "/content/SpikeYOLO/runs/detect/train8:\n",
            "args.yaml  events.out.tfevents.1739883786.90a7a3e53e38.18336.0\tweights\n",
            "\n",
            "/content/SpikeYOLO/runs/detect/train8/weights:\n",
            "\n",
            "/content/SpikeYOLO/runs/detect/train9:\n",
            "args.yaml  events.out.tfevents.1739884031.90a7a3e53e38.19428.0\tweights\n",
            "\n",
            "/content/SpikeYOLO/runs/detect/train9/weights:\n",
            "\n",
            "/content/SpikeYOLO/SpikeYOLO_for_Gen1:\n",
            "CITATION.cff\t mkdocs.yml\t\t\t\t\t  result.jpg\n",
            "CONTRIBUTING.md  pred.jpg\t\t\t\t\t  spikingjelly-0.0.0.0.12\n",
            "DESC\t\t pre_gen1.py\t\t\t\t\t  test.py\n",
            "docker\t\t prophesee-automotive-dataset-toolbox-master.zip  train.py\n",
            "docs\t\t _quan_base_plus.py\t\t\t\t  train.sh\n",
            "examples\t README.md\t\t\t\t\t  ultralytics\n",
            "LICENSE\t\t README.zh-CN.md\t\t\t\t  val_gen1.py\n",
            "MANIFEST.in\t requirements.txt\t\t\t\t  yolov8_environment.yaml\n",
            "\n",
            "/content/SpikeYOLO/SpikeYOLO_for_Gen1/DESC:\n",
            "RENet\n",
            "\n",
            "/content/SpikeYOLO/SpikeYOLO_for_Gen1/DESC/RENet:\n",
            "data  README.md  src\n",
            "\n",
            "/content/SpikeYOLO/SpikeYOLO_for_Gen1/DESC/RENet/data:\n",
            "DSEC\n",
            "\n",
            "/content/SpikeYOLO/SpikeYOLO_for_Gen1/DESC/RENet/data/DSEC:\n",
            "DSEC-GT.pkl\n",
            "\n",
            "/content/SpikeYOLO/SpikeYOLO_for_Gen1/DESC/RENet/src:\n",
            "ACT.py\t   datasets  det.py\tMOD_utils  opts.py  train.py\n",
            "ACT_utils  detector  inference\tnetwork    trainer  vis\n",
            "\n",
            "/content/SpikeYOLO/SpikeYOLO_for_Gen1/DESC/RENet/src/ACT_utils:\n",
            "ACT_aug.py  ACT_build.py  ACT_utils.py\n",
            "\n",
            "/content/SpikeYOLO/SpikeYOLO_for_Gen1/DESC/RENet/src/datasets:\n",
            "dataset  init_dataset.py  sample\n",
            "\n",
            "/content/SpikeYOLO/SpikeYOLO_for_Gen1/DESC/RENet/src/datasets/dataset:\n",
            "base_dataset.py  dsec.py\n",
            "\n",
            "/content/SpikeYOLO/SpikeYOLO_for_Gen1/DESC/RENet/src/datasets/sample:\n",
            "sampler.py\n",
            "\n",
            "/content/SpikeYOLO/SpikeYOLO_for_Gen1/DESC/RENet/src/detector:\n",
            "Decode.py  stream_mod_det.py\n",
            "\n",
            "/content/SpikeYOLO/SpikeYOLO_for_Gen1/DESC/RENet/src/inference:\n",
            "stream_inference.py\n",
            "\n",
            "/content/SpikeYOLO/SpikeYOLO_for_Gen1/DESC/RENet/src/MOD_utils:\n",
            "data_parallel.py  gaussian_hm.py  model.py  scatter_gather.py  utils.py\n",
            "\n",
            "/content/SpikeYOLO/SpikeYOLO_for_Gen1/DESC/RENet/src/network:\n",
            "Attentions.py  Branch.py  DCN.py  deconv.py  DLA.py  MOD_Det.py  MOD_Net.py  REFusion.py  ResNet.py\n",
            "\n",
            "/content/SpikeYOLO/SpikeYOLO_for_Gen1/DESC/RENet/src/trainer:\n",
            "logger.py  losses.py  MOD_Trainer.py\n",
            "\n",
            "/content/SpikeYOLO/SpikeYOLO_for_Gen1/DESC/RENet/src/vis:\n",
            "build.py  tiny_opt.py  vis_dataset.py  vis_det.py  vis_utils.py\n",
            "\n",
            "/content/SpikeYOLO/SpikeYOLO_for_Gen1/docker:\n",
            "Dockerfile\t  Dockerfile-conda  Dockerfile-jetson  Dockerfile-runner\n",
            "Dockerfile-arm64  Dockerfile-cpu    Dockerfile-python\n",
            "\n",
            "/content/SpikeYOLO/SpikeYOLO_for_Gen1/docs:\n",
            "assets\t\t    datasets  hub\t    models     quickstart.md  robots.txt   tasks\n",
            "build_reference.py  guides    index.md\t    modes      README.md      SECURITY.md  usage\n",
            "CNAME\t\t    help      integrations  overrides  reference      stylesheets  yolov5\n",
            "\n",
            "/content/SpikeYOLO/SpikeYOLO_for_Gen1/docs/assets:\n",
            "favicon.ico\n",
            "\n",
            "/content/SpikeYOLO/SpikeYOLO_for_Gen1/docs/datasets:\n",
            "classify  detect  index.md  obb  pose  segment\ttrack\n",
            "\n",
            "/content/SpikeYOLO/SpikeYOLO_for_Gen1/docs/datasets/classify:\n",
            "caltech101.md  cifar100.md  fashion-mnist.md  imagenet.md    imagewoof.md  mnist.md\n",
            "caltech256.md  cifar10.md   imagenet10.md     imagenette.md  index.md\n",
            "\n",
            "/content/SpikeYOLO/SpikeYOLO_for_Gen1/docs/datasets/detect:\n",
            "argoverse.md  coco.md\t\t  index.md\t open-images-v7.md  visdrone.md  xview.md\n",
            "coco8.md      globalwheat2020.md  objects365.md  sku-110k.md\t    voc.md\n",
            "\n",
            "/content/SpikeYOLO/SpikeYOLO_for_Gen1/docs/datasets/obb:\n",
            "dota-v2.md  index.md\n",
            "\n",
            "/content/SpikeYOLO/SpikeYOLO_for_Gen1/docs/datasets/pose:\n",
            "coco8-pose.md  coco.md\tindex.md  tiger-pose.md\n",
            "\n",
            "/content/SpikeYOLO/SpikeYOLO_for_Gen1/docs/datasets/segment:\n",
            "coco8-seg.md  coco.md  index.md\n",
            "\n",
            "/content/SpikeYOLO/SpikeYOLO_for_Gen1/docs/datasets/track:\n",
            "index.md\n",
            "\n",
            "/content/SpikeYOLO/SpikeYOLO_for_Gen1/docs/guides:\n",
            "azureml-quickstart.md  hyperparameter-tuning.md   raspberry-pi.md\t      yolo-common-issues.md\n",
            "conda-quickstart.md    index.md\t\t\t  sahi-tiled-inference.md\n",
            "docker-quickstart.md   kfold-cross-validation.md  triton-inference-server.md\n",
            "\n",
            "/content/SpikeYOLO/SpikeYOLO_for_Gen1/docs/help:\n",
            "CI.md\tcode_of_conduct.md  environmental-health-safety.md  index.md\n",
            "CLA.md\tcontributing.md     FAQ.md\t\t\t    minimum_reproducible_example.md\n",
            "\n",
            "/content/SpikeYOLO/SpikeYOLO_for_Gen1/docs/hub:\n",
            "app\t     index.md\t       integrations.md\tprojects.md\n",
            "datasets.md  inference_api.md  models.md\tquickstart.md\n",
            "\n",
            "/content/SpikeYOLO/SpikeYOLO_for_Gen1/docs/hub/app:\n",
            "android.md  index.md  ios.md\n",
            "\n",
            "/content/SpikeYOLO/SpikeYOLO_for_Gen1/docs/integrations:\n",
            "index.md  openvino.md  ray-tune.md  roboflow.md\n",
            "\n",
            "/content/SpikeYOLO/SpikeYOLO_for_Gen1/docs/models:\n",
            "fast-sam.md  mobile-sam.md  sam.md\t yolov3.md  yolov5.md  yolov7.md\n",
            "index.md     rtdetr.md\t    yolo-nas.md  yolov4.md  yolov6.md  yolov8.md\n",
            "\n",
            "/content/SpikeYOLO/SpikeYOLO_for_Gen1/docs/modes:\n",
            "benchmark.md  export.md  index.md  predict.md  track.md  train.md  val.md\n",
            "\n",
            "/content/SpikeYOLO/SpikeYOLO_for_Gen1/docs/overrides:\n",
            "partials\n",
            "\n",
            "/content/SpikeYOLO/SpikeYOLO_for_Gen1/docs/overrides/partials:\n",
            "comments.html  source-file.html\n",
            "\n",
            "/content/SpikeYOLO/SpikeYOLO_for_Gen1/docs/reference:\n",
            "cfg  data  engine  hub\tmodels\tnn  trackers  utils\n",
            "\n",
            "/content/SpikeYOLO/SpikeYOLO_for_Gen1/docs/reference/cfg:\n",
            "__init__.md\n",
            "\n",
            "/content/SpikeYOLO/SpikeYOLO_for_Gen1/docs/reference/data:\n",
            "annotator.md  augment.md  base.md  build.md  converter.md  dataset.md  loaders.md  utils.md\n",
            "\n",
            "/content/SpikeYOLO/SpikeYOLO_for_Gen1/docs/reference/engine:\n",
            "exporter.md  model.md  predictor.md  results.md  trainer.md  tuner.md  validator.md\n",
            "\n",
            "/content/SpikeYOLO/SpikeYOLO_for_Gen1/docs/reference/hub:\n",
            "auth.md  __init__.md  session.md  utils.md\n",
            "\n",
            "/content/SpikeYOLO/SpikeYOLO_for_Gen1/docs/reference/models:\n",
            "fastsam  nas  rtdetr  sam  utils  yolo\n",
            "\n",
            "/content/SpikeYOLO/SpikeYOLO_for_Gen1/docs/reference/models/fastsam:\n",
            "model.md  predict.md  prompt.md  utils.md  val.md\n",
            "\n",
            "/content/SpikeYOLO/SpikeYOLO_for_Gen1/docs/reference/models/nas:\n",
            "model.md  predict.md  val.md\n",
            "\n",
            "/content/SpikeYOLO/SpikeYOLO_for_Gen1/docs/reference/models/rtdetr:\n",
            "model.md  predict.md  train.md\tval.md\n",
            "\n",
            "/content/SpikeYOLO/SpikeYOLO_for_Gen1/docs/reference/models/sam:\n",
            "amg.md\tbuild.md  model.md  modules  predict.md\n",
            "\n",
            "/content/SpikeYOLO/SpikeYOLO_for_Gen1/docs/reference/models/sam/modules:\n",
            "decoders.md  encoders.md  sam.md  tiny_encoder.md  transformer.md\n",
            "\n",
            "/content/SpikeYOLO/SpikeYOLO_for_Gen1/docs/reference/models/utils:\n",
            "loss.md  ops.md\n",
            "\n",
            "/content/SpikeYOLO/SpikeYOLO_for_Gen1/docs/reference/models/yolo:\n",
            "classify  detect  model.md  pose  segment\n",
            "\n",
            "/content/SpikeYOLO/SpikeYOLO_for_Gen1/docs/reference/models/yolo/classify:\n",
            "predict.md  train.md  val.md\n",
            "\n",
            "/content/SpikeYOLO/SpikeYOLO_for_Gen1/docs/reference/models/yolo/detect:\n",
            "predict.md  train.md  val.md\n",
            "\n",
            "/content/SpikeYOLO/SpikeYOLO_for_Gen1/docs/reference/models/yolo/pose:\n",
            "predict.md  train.md  val.md\n",
            "\n",
            "/content/SpikeYOLO/SpikeYOLO_for_Gen1/docs/reference/models/yolo/segment:\n",
            "predict.md  train.md  val.md\n",
            "\n",
            "/content/SpikeYOLO/SpikeYOLO_for_Gen1/docs/reference/nn:\n",
            "autobackend.md\tmodules  tasks.md\n",
            "\n",
            "/content/SpikeYOLO/SpikeYOLO_for_Gen1/docs/reference/nn/modules:\n",
            "block.md  conv.md  head.md  transformer.md  utils.md\n",
            "\n",
            "/content/SpikeYOLO/SpikeYOLO_for_Gen1/docs/reference/trackers:\n",
            "basetrack.md  bot_sort.md  byte_tracker.md  track.md  utils\n",
            "\n",
            "/content/SpikeYOLO/SpikeYOLO_for_Gen1/docs/reference/trackers/utils:\n",
            "gmc.md\tkalman_filter.md  matching.md\n",
            "\n",
            "/content/SpikeYOLO/SpikeYOLO_for_Gen1/docs/reference/utils:\n",
            "autobatch.md   checks.md     errors.md\t  instance.md  ops.md\t    tal.md\t    tuner.md\n",
            "benchmarks.md  dist.md\t     files.md\t  loss.md      patches.md   torch_utils.md\n",
            "callbacks      downloads.md  __init__.md  metrics.md   plotting.md  triton.md\n",
            "\n",
            "/content/SpikeYOLO/SpikeYOLO_for_Gen1/docs/reference/utils/callbacks:\n",
            "base.md     comet.md  hub.md\t neptune.md  tensorboard.md\n",
            "clearml.md  dvc.md    mlflow.md  raytune.md  wb.md\n",
            "\n",
            "/content/SpikeYOLO/SpikeYOLO_for_Gen1/docs/stylesheets:\n",
            "style.css\n",
            "\n",
            "/content/SpikeYOLO/SpikeYOLO_for_Gen1/docs/tasks:\n",
            "classify.md  detect.md\tindex.md  pose.md  segment.md\n",
            "\n",
            "/content/SpikeYOLO/SpikeYOLO_for_Gen1/docs/usage:\n",
            "callbacks.md  cfg.md  cli.md  engine.md  python.md\n",
            "\n",
            "/content/SpikeYOLO/SpikeYOLO_for_Gen1/docs/yolov5:\n",
            "environments  index.md\tquickstart_tutorial.md\ttutorials\n",
            "\n",
            "/content/SpikeYOLO/SpikeYOLO_for_Gen1/docs/yolov5/environments:\n",
            "aws_quickstart_tutorial.md\tdocker_image_quickstart_tutorial.md\n",
            "azureml_quickstart_tutorial.md\tgoogle_cloud_quickstart_tutorial.md\n",
            "\n",
            "/content/SpikeYOLO/SpikeYOLO_for_Gen1/docs/yolov5/tutorials:\n",
            "architecture_description.md\tneural_magic_pruning_quantization.md\n",
            "clearml_logging_integration.md\tpytorch_hub_model_loading.md\n",
            "comet_logging_integration.md\troboflow_datasets_integration.md\n",
            "hyperparameter_evolution.md\trunning_on_jetson_nano.md\n",
            "model_ensembling.md\t\ttest_time_augmentation.md\n",
            "model_export.md\t\t\ttips_for_best_training_results.md\n",
            "model_pruning_and_sparsity.md\ttrain_custom_data.md\n",
            "multi_gpu_training.md\t\ttransfer_learning_with_frozen_layers.md\n",
            "\n",
            "/content/SpikeYOLO/SpikeYOLO_for_Gen1/examples:\n",
            "hub.ipynb\tYOLOv8-CPP-Inference\tYOLOv8-OpenCV-ONNX-Python\n",
            "README.md\tYOLOv8-ONNXRuntime\tYOLOv8-Region-Counter\n",
            "tutorial.ipynb\tYOLOv8-ONNXRuntime-CPP\tYOLOv8-SAHI-Inference-Video\n",
            "\n",
            "/content/SpikeYOLO/SpikeYOLO_for_Gen1/examples/YOLOv8-CPP-Inference:\n",
            "CMakeLists.txt\tinference.cpp  inference.h  main.cpp  README.md\n",
            "\n",
            "/content/SpikeYOLO/SpikeYOLO_for_Gen1/examples/YOLOv8-ONNXRuntime:\n",
            "main.py  README.md\n",
            "\n",
            "/content/SpikeYOLO/SpikeYOLO_for_Gen1/examples/YOLOv8-ONNXRuntime-CPP:\n",
            "CMakeLists.txt\tinference.cpp  inference.h  main.cpp  README.md\n",
            "\n",
            "/content/SpikeYOLO/SpikeYOLO_for_Gen1/examples/YOLOv8-OpenCV-ONNX-Python:\n",
            "main.py  README.md\n",
            "\n",
            "/content/SpikeYOLO/SpikeYOLO_for_Gen1/examples/YOLOv8-Region-Counter:\n",
            "readme.md  yolov8_region_counter.py\n",
            "\n",
            "/content/SpikeYOLO/SpikeYOLO_for_Gen1/examples/YOLOv8-SAHI-Inference-Video:\n",
            "readme.md  yolov8_sahi.py\n",
            "\n",
            "/content/SpikeYOLO/SpikeYOLO_for_Gen1/spikingjelly-0.0.0.0.12:\n",
            "bugs.md  LICENSE-CN\t  README_cn.md\trequirements.txt  spikingjelly\n",
            "LICENSE  publications.md  README.md\tsetup.py\n",
            "\n",
            "/content/SpikeYOLO/SpikeYOLO_for_Gen1/spikingjelly-0.0.0.0.12/spikingjelly:\n",
            "cext  clock_driven  configure.py  datasets  event_driven  __init__.py  visualizing\n",
            "\n",
            "/content/SpikeYOLO/SpikeYOLO_for_Gen1/spikingjelly-0.0.0.0.12/spikingjelly/cext:\n",
            "csrc  functional.py  __init__.py  layer.py\n",
            "\n",
            "/content/SpikeYOLO/SpikeYOLO_for_Gen1/spikingjelly-0.0.0.0.12/spikingjelly/cext/csrc:\n",
            "gemm\n",
            "\n",
            "/content/SpikeYOLO/SpikeYOLO_for_Gen1/spikingjelly-0.0.0.0.12/spikingjelly/cext/csrc/gemm:\n",
            "gemm.cpp  gemm_kernel.cu\n",
            "\n",
            "/content/SpikeYOLO/SpikeYOLO_for_Gen1/spikingjelly-0.0.0.0.12/spikingjelly/clock_driven:\n",
            "ann2snn\t\t  examples\t    layer.py\t      neuron_kernel.md\tspike_op.py\n",
            "base.py\t\t  functional.py     model\t      neuron_kernel.py\tsurrogate.py\n",
            "cu_kernel_opt.py  __init__.py\t    monitor.py\t      neuron.py\t\ttensor_cache.py\n",
            "encoding.py\t  lava_exchange.py  neuron_kernel.cu  rnn.py\n",
            "\n",
            "/content/SpikeYOLO/SpikeYOLO_for_Gen1/spikingjelly-0.0.0.0.12/spikingjelly/clock_driven/ann2snn:\n",
            "converter.py  examples\t__init__.py  modules.py  sample_models\tutils.py\n",
            "\n",
            "/content/SpikeYOLO/SpikeYOLO_for_Gen1/spikingjelly-0.0.0.0.12/spikingjelly/clock_driven/ann2snn/examples:\n",
            "cnn_mnist.py  __init__.py  resnet18_cifar10.py\n",
            "\n",
            "/content/SpikeYOLO/SpikeYOLO_for_Gen1/spikingjelly-0.0.0.0.12/spikingjelly/clock_driven/ann2snn/sample_models:\n",
            "cifar10_resnet.py  mnist_cnn.py\n",
            "\n",
            "/content/SpikeYOLO/SpikeYOLO_for_Gen1/spikingjelly-0.0.0.0.12/spikingjelly/clock_driven/examples:\n",
            "A2C.py\t\t\t\t\t\t    PPO.py\n",
            "cifar10_r11_enabling_spikebased_backpropagation.py  rsnn_sequential_fmnist.py\n",
            "classify_dvsg.py\t\t\t\t    speechcommands.py\n",
            "common\t\t\t\t\t\t    Spiking_A2C.py\n",
            "conv_fashion_mnist.py\t\t\t\t    Spiking_DQN_state.py\n",
            "dqn_cart_pole.py\t\t\t\t    spiking_lstm_sequential_mnist.py\n",
            "DQN_state.py\t\t\t\t\t    spiking_lstm_text.py\n",
            "__init__.py\t\t\t\t\t    Spiking_PPO.py\n",
            "lif_fc_mnist.py\n",
            "\n",
            "/content/SpikeYOLO/SpikeYOLO_for_Gen1/spikingjelly-0.0.0.0.12/spikingjelly/clock_driven/examples/common:\n",
            "__init__.py  multiprocessing_env.py\n",
            "\n",
            "/content/SpikeYOLO/SpikeYOLO_for_Gen1/spikingjelly-0.0.0.0.12/spikingjelly/clock_driven/model:\n",
            "__init__.py\t       sew_resnet.py\t  spiking_vgg.py     train_imagenet.py\n",
            "parametric_lif_net.py  spiking_resnet.py  train_classify.py\n",
            "\n",
            "/content/SpikeYOLO/SpikeYOLO_for_Gen1/spikingjelly-0.0.0.0.12/spikingjelly/datasets:\n",
            "asl_dvs.py\tdvs128_gesture.py  __init__.py\t   n_caltech101.py  speechcommands.py\n",
            "cifar10_dvs.py\tes_imagenet.py\t   nav_gesture.py  n_mnist.py\n",
            "\n",
            "/content/SpikeYOLO/SpikeYOLO_for_Gen1/spikingjelly-0.0.0.0.12/spikingjelly/event_driven:\n",
            "encoding.py  examples  __init__.py  neuron.py\n",
            "\n",
            "/content/SpikeYOLO/SpikeYOLO_for_Gen1/spikingjelly-0.0.0.0.12/spikingjelly/event_driven/examples:\n",
            "__init__.py  tempotron_mnist.py\n",
            "\n",
            "/content/SpikeYOLO/SpikeYOLO_for_Gen1/spikingjelly-0.0.0.0.12/spikingjelly/visualizing:\n",
            "__init__.py\n",
            "\n",
            "/content/SpikeYOLO/SpikeYOLO_for_Gen1/ultralytics:\n",
            "cfg  data  engine  hub\t__init__.py  models  nn  trackers  utils\n",
            "\n",
            "/content/SpikeYOLO/SpikeYOLO_for_Gen1/ultralytics/cfg:\n",
            "datasets  default-coco.yaml  default.yaml  __init__.py\tmodels\ttrackers\n",
            "\n",
            "/content/SpikeYOLO/SpikeYOLO_for_Gen1/ultralytics/cfg/datasets:\n",
            "gen1.yaml\n",
            "\n",
            "/content/SpikeYOLO/SpikeYOLO_for_Gen1/ultralytics/cfg/models:\n",
            "README.md  rt-detr  v3\tv5  v6\tv8\n",
            "\n",
            "/content/SpikeYOLO/SpikeYOLO_for_Gen1/ultralytics/cfg/models/rt-detr:\n",
            "rtdetr-l.yaml  rtdetr-x.yaml\n",
            "\n",
            "/content/SpikeYOLO/SpikeYOLO_for_Gen1/ultralytics/cfg/models/v3:\n",
            "yolov3-spp.yaml  yolov3-tiny.yaml  yolov3.yaml\n",
            "\n",
            "/content/SpikeYOLO/SpikeYOLO_for_Gen1/ultralytics/cfg/models/v5:\n",
            "yolov5-p6.yaml\tyolov5.yaml\n",
            "\n",
            "/content/SpikeYOLO/SpikeYOLO_for_Gen1/ultralytics/cfg/models/v6:\n",
            "yolov6.yaml\n",
            "\n",
            "/content/SpikeYOLO/SpikeYOLO_for_Gen1/ultralytics/cfg/models/v8:\n",
            "snn_yolov8.yaml  yolov8-p2.yaml  yolov8-pose-p6.yaml  yolov8-rtdetr.yaml  yolov8-seg.yaml\n",
            "yolov8-cls.yaml  yolov8-p6.yaml  yolov8-pose.yaml     yolov8-seg-p6.yaml  yolov8.yaml\n",
            "\n",
            "/content/SpikeYOLO/SpikeYOLO_for_Gen1/ultralytics/cfg/trackers:\n",
            "botsort.yaml  bytetrack.yaml\n",
            "\n",
            "/content/SpikeYOLO/SpikeYOLO_for_Gen1/ultralytics/data:\n",
            "annotator.py  base.py\tconverter.py  __init__.py  scripts\n",
            "augment.py    build.py\tdataset.py    loaders.py   utils.py\n",
            "\n",
            "/content/SpikeYOLO/SpikeYOLO_for_Gen1/ultralytics/data/scripts:\n",
            "download_weights.sh  get_coco128.sh  get_coco.sh  get_imagenet.sh\n",
            "\n",
            "/content/SpikeYOLO/SpikeYOLO_for_Gen1/ultralytics/engine:\n",
            "exporter.py  __init__.py  model.py  predictor.py  results.py  trainer.py  tuner.py  validator.py\n",
            "\n",
            "/content/SpikeYOLO/SpikeYOLO_for_Gen1/ultralytics/hub:\n",
            "auth.py  __init__.py  session.py  utils.py\n",
            "\n",
            "/content/SpikeYOLO/SpikeYOLO_for_Gen1/ultralytics/models:\n",
            "fastsam  __init__.py  nas  rtdetr  sam\tutils  yolo\n",
            "\n",
            "/content/SpikeYOLO/SpikeYOLO_for_Gen1/ultralytics/models/fastsam:\n",
            "__init__.py  model.py  predict.py  prompt.py  utils.py\tval.py\n",
            "\n",
            "/content/SpikeYOLO/SpikeYOLO_for_Gen1/ultralytics/models/nas:\n",
            "__init__.py  model.py  predict.py  val.py\n",
            "\n",
            "/content/SpikeYOLO/SpikeYOLO_for_Gen1/ultralytics/models/rtdetr:\n",
            "__init__.py  model.py  predict.py  train.py  val.py\n",
            "\n",
            "/content/SpikeYOLO/SpikeYOLO_for_Gen1/ultralytics/models/sam:\n",
            "amg.py\tbuild.py  __init__.py  model.py  modules  predict.py\n",
            "\n",
            "/content/SpikeYOLO/SpikeYOLO_for_Gen1/ultralytics/models/sam/modules:\n",
            "decoders.py  encoders.py  __init__.py  sam.py  tiny_encoder.py\ttransformer.py\n",
            "\n",
            "/content/SpikeYOLO/SpikeYOLO_for_Gen1/ultralytics/models/utils:\n",
            "__init__.py  loss.py  ops.py\n",
            "\n",
            "/content/SpikeYOLO/SpikeYOLO_for_Gen1/ultralytics/models/yolo:\n",
            "classify  detect  __init__.py  model.py  pose  segment\n",
            "\n",
            "/content/SpikeYOLO/SpikeYOLO_for_Gen1/ultralytics/models/yolo/classify:\n",
            "__init__.py  predict.py  train.py  val.py\n",
            "\n",
            "/content/SpikeYOLO/SpikeYOLO_for_Gen1/ultralytics/models/yolo/detect:\n",
            "__init__.py  predict.py  train.py  val.py\n",
            "\n",
            "/content/SpikeYOLO/SpikeYOLO_for_Gen1/ultralytics/models/yolo/pose:\n",
            "__init__.py  predict.py  train.py  val.py\n",
            "\n",
            "/content/SpikeYOLO/SpikeYOLO_for_Gen1/ultralytics/models/yolo/segment:\n",
            "__init__.py  predict.py  train.py  val.py\n",
            "\n",
            "/content/SpikeYOLO/SpikeYOLO_for_Gen1/ultralytics/nn:\n",
            "autobackend.py\t__init__.py  modules  tasks.py\n",
            "\n",
            "/content/SpikeYOLO/SpikeYOLO_for_Gen1/ultralytics/nn/modules:\n",
            "block.py  head.py      shutu.py\t\tsurrogate.py\tutils.py\n",
            "conv.py   __init__.py  spikformer_util\ttransformer.py\tyolo_spikformer.py\n",
            "\n",
            "/content/SpikeYOLO/SpikeYOLO_for_Gen1/ultralytics/nn/modules/spikformer_util:\n",
            "crop.py      lars.py\t  lr_decay_spikformer.py  misc.py\n",
            "datasets.py  lr_decay.py  lr_sched.py\t\t  pos_embed.py\n",
            "\n",
            "/content/SpikeYOLO/SpikeYOLO_for_Gen1/ultralytics/trackers:\n",
            "basetrack.py  bot_sort.py  byte_tracker.py  __init__.py  README.md  track.py  utils\n",
            "\n",
            "/content/SpikeYOLO/SpikeYOLO_for_Gen1/ultralytics/trackers/utils:\n",
            "gmc.py\t__init__.py  kalman_filter.py  matching.py\n",
            "\n",
            "/content/SpikeYOLO/SpikeYOLO_for_Gen1/ultralytics/utils:\n",
            "autobatch.py   checks.py     errors.py\t  instance.py  ops.py\t    tal.py\t    tuner.py\n",
            "benchmarks.py  dist.py\t     files.py\t  loss.py      patches.py   torch_utils.py\n",
            "callbacks      downloads.py  __init__.py  metrics.py   plotting.py  triton.py\n",
            "\n",
            "/content/SpikeYOLO/SpikeYOLO_for_Gen1/ultralytics/utils/callbacks:\n",
            "base.py     comet.py  hub.py\t   mlflow.py   raytune.py      wb.py\n",
            "clearml.py  dvc.py    __init__.py  neptune.py  tensorboard.py\n",
            "\n",
            "/content/SpikeYOLO/ultralytics:\n",
            "cfg  data  engine  hub\t__init__.py  models  nn  __pycache__  trackers\tutils\n",
            "\n",
            "/content/SpikeYOLO/ultralytics/cfg:\n",
            "datasets  default.yaml\t__init__.py  models  __pycache__  trackers\n",
            "\n",
            "/content/SpikeYOLO/ultralytics/cfg/datasets:\n",
            "Argoverse.yaml\t  coco8-seg.yaml  DOTAv2.yaml\t\topen-images-v7.yaml  VOC.yaml\n",
            "coco128-seg.yaml  coco8.yaml\t  GlobalWheat2020.yaml\tSKU-110K.yaml\t     xView.yaml\n",
            "coco128.yaml\t  coco-pose.yaml  ImageNet.yaml\t\ttiger-pose.yaml\n",
            "coco8-pose.yaml   coco.yaml\t  Objects365.yaml\tVisDrone.yaml\n",
            "\n",
            "/content/SpikeYOLO/ultralytics/cfg/models:\n",
            "README.md  rt-detr  v3\tv5  v6\tv8\n",
            "\n",
            "/content/SpikeYOLO/ultralytics/cfg/models/rt-detr:\n",
            "rtdetr-l.yaml  rtdetr-x.yaml\n",
            "\n",
            "/content/SpikeYOLO/ultralytics/cfg/models/v3:\n",
            "yolov3-spp.yaml  yolov3-tiny.yaml  yolov3.yaml\n",
            "\n",
            "/content/SpikeYOLO/ultralytics/cfg/models/v5:\n",
            "yolov5-p6.yaml\tyolov5.yaml\n",
            "\n",
            "/content/SpikeYOLO/ultralytics/cfg/models/v6:\n",
            "yolov6.yaml\n",
            "\n",
            "/content/SpikeYOLO/ultralytics/cfg/models/v8:\n",
            "ems_yolov8.yaml        snn_yolov8.yaml\tyolov8-pose-p6.yaml  yolov8-seg.yaml\n",
            "snn_align_yolov8.yaml  yolov8-cls.yaml\tyolov8-pose.yaml     yolov8.yaml\n",
            "snn_c2f_yolov8.yaml    yolov8-p2.yaml\tyolov8-rtdetr.yaml\n",
            "snn_yolov8-Copy1.yaml  yolov8-p6.yaml\tyolov8-seg-p6.yaml\n",
            "\n",
            "/content/SpikeYOLO/ultralytics/cfg/__pycache__:\n",
            "__init__.cpython-310.pyc\n",
            "\n",
            "/content/SpikeYOLO/ultralytics/cfg/trackers:\n",
            "botsort.yaml  bytetrack.yaml\n",
            "\n",
            "/content/SpikeYOLO/ultralytics/data:\n",
            "annotator.py  base.py\tconverter.py  __init__.py  __pycache__\tutils.py\n",
            "augment.py    build.py\tdataset.py    loaders.py   scripts\n",
            "\n",
            "/content/SpikeYOLO/ultralytics/data/__pycache__:\n",
            "augment.cpython-310.pyc  converter.cpython-310.pyc  loaders.cpython-310.pyc\n",
            "base.cpython-310.pyc\t dataset.cpython-310.pyc    utils.cpython-310.pyc\n",
            "build.cpython-310.pyc\t __init__.cpython-310.pyc\n",
            "\n",
            "/content/SpikeYOLO/ultralytics/data/scripts:\n",
            "download_weights.sh  get_coco128.sh  get_coco.sh  get_imagenet.sh\n",
            "\n",
            "/content/SpikeYOLO/ultralytics/engine:\n",
            "exporter.py  model.py\t   __pycache__\ttrainer.py  validator.py\n",
            "__init__.py  predictor.py  results.py\ttuner.py\n",
            "\n",
            "/content/SpikeYOLO/ultralytics/engine/__pycache__:\n",
            "__init__.cpython-310.pyc  predictor.cpython-310.pyc  trainer.cpython-310.pyc\n",
            "model.cpython-310.pyc\t  results.cpython-310.pyc    validator.cpython-310.pyc\n",
            "\n",
            "/content/SpikeYOLO/ultralytics/hub:\n",
            "auth.py  __init__.py  __pycache__  session.py  utils.py\n",
            "\n",
            "/content/SpikeYOLO/ultralytics/hub/__pycache__:\n",
            "auth.cpython-310.pyc  __init__.cpython-310.pyc\tutils.cpython-310.pyc\n",
            "\n",
            "/content/SpikeYOLO/ultralytics/models:\n",
            "fastsam  __init__.py  nas  __pycache__\trtdetr\tsam  utils  yolo\n",
            "\n",
            "/content/SpikeYOLO/ultralytics/models/fastsam:\n",
            "__init__.py  model.py  predict.py  prompt.py  __pycache__  utils.py  val.py\n",
            "\n",
            "/content/SpikeYOLO/ultralytics/models/fastsam/__pycache__:\n",
            "__init__.cpython-310.pyc  predict.cpython-310.pyc  utils.cpython-310.pyc\n",
            "model.cpython-310.pyc\t  prompt.cpython-310.pyc   val.cpython-310.pyc\n",
            "\n",
            "/content/SpikeYOLO/ultralytics/models/nas:\n",
            "__init__.py  model.py  predict.py  __pycache__\tval.py\n",
            "\n",
            "/content/SpikeYOLO/ultralytics/models/nas/__pycache__:\n",
            "__init__.cpython-310.pyc  model.cpython-310.pyc  predict.cpython-310.pyc  val.cpython-310.pyc\n",
            "\n",
            "/content/SpikeYOLO/ultralytics/models/__pycache__:\n",
            "__init__.cpython-310.pyc\n",
            "\n",
            "/content/SpikeYOLO/ultralytics/models/rtdetr:\n",
            "__init__.py  model.py  predict.py  __pycache__\ttrain.py  val.py\n",
            "\n",
            "/content/SpikeYOLO/ultralytics/models/rtdetr/__pycache__:\n",
            "__init__.cpython-310.pyc  predict.cpython-310.pyc  val.cpython-310.pyc\n",
            "model.cpython-310.pyc\t  train.cpython-310.pyc\n",
            "\n",
            "/content/SpikeYOLO/ultralytics/models/sam:\n",
            "amg.py\tbuild.py  __init__.py  model.py  modules  predict.py  __pycache__\n",
            "\n",
            "/content/SpikeYOLO/ultralytics/models/sam/modules:\n",
            "decoders.py  encoders.py  __init__.py  __pycache__  sam.py  tiny_encoder.py  transformer.py\n",
            "\n",
            "/content/SpikeYOLO/ultralytics/models/sam/modules/__pycache__:\n",
            "decoders.cpython-310.pyc  __init__.cpython-310.pyc  tiny_encoder.cpython-310.pyc\n",
            "encoders.cpython-310.pyc  sam.cpython-310.pyc\t    transformer.cpython-310.pyc\n",
            "\n",
            "/content/SpikeYOLO/ultralytics/models/sam/__pycache__:\n",
            "amg.cpython-310.pyc    __init__.cpython-310.pyc  predict.cpython-310.pyc\n",
            "build.cpython-310.pyc  model.cpython-310.pyc\n",
            "\n",
            "/content/SpikeYOLO/ultralytics/models/utils:\n",
            "__init__.py  loss.py  ops.py\n",
            "\n",
            "/content/SpikeYOLO/ultralytics/models/yolo:\n",
            "classify  detect  __init__.py  model.py  pose  __pycache__  segment\n",
            "\n",
            "/content/SpikeYOLO/ultralytics/models/yolo/classify:\n",
            "__init__.py  predict.py  __pycache__  train.py\tval.py\n",
            "\n",
            "/content/SpikeYOLO/ultralytics/models/yolo/classify/__pycache__:\n",
            "__init__.cpython-310.pyc  predict.cpython-310.pyc  train.cpython-310.pyc  val.cpython-310.pyc\n",
            "\n",
            "/content/SpikeYOLO/ultralytics/models/yolo/detect:\n",
            "__init__.py  predict.py  __pycache__  train.py\tval.py\n",
            "\n",
            "/content/SpikeYOLO/ultralytics/models/yolo/detect/__pycache__:\n",
            "__init__.cpython-310.pyc  predict.cpython-310.pyc  train.cpython-310.pyc  val.cpython-310.pyc\n",
            "\n",
            "/content/SpikeYOLO/ultralytics/models/yolo/pose:\n",
            "__init__.py  predict.py  __pycache__  train.py\tval.py\n",
            "\n",
            "/content/SpikeYOLO/ultralytics/models/yolo/pose/__pycache__:\n",
            "__init__.cpython-310.pyc  predict.cpython-310.pyc  train.cpython-310.pyc  val.cpython-310.pyc\n",
            "\n",
            "/content/SpikeYOLO/ultralytics/models/yolo/__pycache__:\n",
            "__init__.cpython-310.pyc  model.cpython-310.pyc\n",
            "\n",
            "/content/SpikeYOLO/ultralytics/models/yolo/segment:\n",
            "__init__.py  predict.py  __pycache__  train.py\tval.py\n",
            "\n",
            "/content/SpikeYOLO/ultralytics/models/yolo/segment/__pycache__:\n",
            "__init__.cpython-310.pyc  predict.cpython-310.pyc  train.cpython-310.pyc  val.cpython-310.pyc\n",
            "\n",
            "/content/SpikeYOLO/ultralytics/nn:\n",
            "autobackend.py\t__init__.py  modules  __pycache__  tasks.py\n",
            "\n",
            "/content/SpikeYOLO/ultralytics/nn/modules:\n",
            "block.py  head.py      __pycache__\ttransformer.py\tyolo_spikformer.py\n",
            "conv.py   __init__.py  spikformer_util\tutils.py\n",
            "\n",
            "/content/SpikeYOLO/ultralytics/nn/modules/__pycache__:\n",
            "block.cpython-310.pyc  __init__.cpython-310.pyc     yolo_spikformer.cpython-310.pyc\n",
            "conv.cpython-310.pyc   transformer.cpython-310.pyc\n",
            "head.cpython-310.pyc   utils.cpython-310.pyc\n",
            "\n",
            "/content/SpikeYOLO/ultralytics/nn/modules/spikformer_util:\n",
            "crop.py      lars.py\t  lr_decay_spikformer.py  misc.py\n",
            "datasets.py  lr_decay.py  lr_sched.py\t\t  pos_embed.py\n",
            "\n",
            "/content/SpikeYOLO/ultralytics/nn/__pycache__:\n",
            "autobackend.cpython-310.pyc  __init__.cpython-310.pyc  tasks.cpython-310.pyc\n",
            "\n",
            "/content/SpikeYOLO/ultralytics/__pycache__:\n",
            "__init__.cpython-310.pyc\n",
            "\n",
            "/content/SpikeYOLO/ultralytics/trackers:\n",
            "basetrack.py  bot_sort.py  byte_tracker.py  __init__.py  README.md  track.py  utils\n",
            "\n",
            "/content/SpikeYOLO/ultralytics/trackers/utils:\n",
            "gmc.py\t__init__.py  kalman_filter.py  matching.py\n",
            "\n",
            "/content/SpikeYOLO/ultralytics/utils:\n",
            "autobatch.py   checks.py     errors.py\t  instance.py  ops.py\t    __pycache__     triton.py\n",
            "benchmarks.py  dist.py\t     files.py\t  loss.py      patches.py   tal.py\t    tuner.py\n",
            "callbacks      downloads.py  __init__.py  metrics.py   plotting.py  torch_utils.py\n",
            "\n",
            "/content/SpikeYOLO/ultralytics/utils/callbacks:\n",
            "base.py     comet.py  hub.py\t   mlflow.py   __pycache__  tensorboard.py\n",
            "clearml.py  dvc.py    __init__.py  neptune.py  raytune.py   wb.py\n",
            "\n",
            "/content/SpikeYOLO/ultralytics/utils/callbacks/__pycache__:\n",
            "base.cpython-310.pyc\t hub.cpython-310.pyc\t   raytune.cpython-310.pyc\n",
            "clearml.cpython-310.pyc  __init__.cpython-310.pyc  tensorboard.cpython-310.pyc\n",
            "comet.cpython-310.pyc\t mlflow.cpython-310.pyc    wb.cpython-310.pyc\n",
            "dvc.cpython-310.pyc\t neptune.cpython-310.pyc\n",
            "\n",
            "/content/SpikeYOLO/ultralytics/utils/__pycache__:\n",
            "autobatch.cpython-310.pyc  __init__.cpython-310.pyc  patches.cpython-310.pyc\n",
            "checks.cpython-310.pyc\t   instance.cpython-310.pyc  plotting.cpython-310.pyc\n",
            "dist.cpython-310.pyc\t   loss.cpython-310.pyc      tal.cpython-310.pyc\n",
            "downloads.cpython-310.pyc  metrics.cpython-310.pyc   torch_utils.cpython-310.pyc\n",
            "files.cpython-310.pyc\t   ops.cpython-310.pyc\n",
            "\n",
            "/content/SpikeYOLO/wandb:\n",
            "debug-internal.log\t      run-20250218_124448-33kfc1qu  run-20250218_125612-yzc6ex0x\n",
            "debug.log\t\t      run-20250218_124908-tzqz27gb  run-20250218_125939-jhhku8em\n",
            "latest-run\t\t      run-20250218_125027-2lvpcaem  run-20250218_130306-dopkalv0\n",
            "run-20250218_123751-wqsizhiy  run-20250218_125323-b8iz5yyl  run-20250218_130711-p9af9pd8\n",
            "\n",
            "/content/SpikeYOLO/wandb/run-20250218_123751-wqsizhiy:\n",
            "files  logs  run-wqsizhiy.wandb  tmp\n",
            "\n",
            "/content/SpikeYOLO/wandb/run-20250218_123751-wqsizhiy/files:\n",
            "config.yaml  output.log  requirements.txt  wandb-metadata.json\twandb-summary.json\n",
            "\n",
            "/content/SpikeYOLO/wandb/run-20250218_123751-wqsizhiy/logs:\n",
            "debug-core.log\tdebug-internal.log  debug.log\n",
            "\n",
            "/content/SpikeYOLO/wandb/run-20250218_123751-wqsizhiy/tmp:\n",
            "code\n",
            "\n",
            "/content/SpikeYOLO/wandb/run-20250218_123751-wqsizhiy/tmp/code:\n",
            "\n",
            "/content/SpikeYOLO/wandb/run-20250218_124448-33kfc1qu:\n",
            "files  logs  run-33kfc1qu.wandb  tmp\n",
            "\n",
            "/content/SpikeYOLO/wandb/run-20250218_124448-33kfc1qu/files:\n",
            "config.yaml  output.log  requirements.txt  wandb-metadata.json\twandb-summary.json\n",
            "\n",
            "/content/SpikeYOLO/wandb/run-20250218_124448-33kfc1qu/logs:\n",
            "debug-core.log\tdebug-internal.log  debug.log\n",
            "\n",
            "/content/SpikeYOLO/wandb/run-20250218_124448-33kfc1qu/tmp:\n",
            "code\n",
            "\n",
            "/content/SpikeYOLO/wandb/run-20250218_124448-33kfc1qu/tmp/code:\n",
            "\n",
            "/content/SpikeYOLO/wandb/run-20250218_124908-tzqz27gb:\n",
            "files  logs  run-tzqz27gb.wandb  tmp\n",
            "\n",
            "/content/SpikeYOLO/wandb/run-20250218_124908-tzqz27gb/files:\n",
            "config.yaml  output.log  requirements.txt  wandb-metadata.json\twandb-summary.json\n",
            "\n",
            "/content/SpikeYOLO/wandb/run-20250218_124908-tzqz27gb/logs:\n",
            "debug-core.log\tdebug-internal.log  debug.log\n",
            "\n",
            "/content/SpikeYOLO/wandb/run-20250218_124908-tzqz27gb/tmp:\n",
            "code\n",
            "\n",
            "/content/SpikeYOLO/wandb/run-20250218_124908-tzqz27gb/tmp/code:\n",
            "\n",
            "/content/SpikeYOLO/wandb/run-20250218_125027-2lvpcaem:\n",
            "files  logs  run-2lvpcaem.wandb  tmp\n",
            "\n",
            "/content/SpikeYOLO/wandb/run-20250218_125027-2lvpcaem/files:\n",
            "config.yaml  output.log  requirements.txt  wandb-metadata.json\twandb-summary.json\n",
            "\n",
            "/content/SpikeYOLO/wandb/run-20250218_125027-2lvpcaem/logs:\n",
            "debug-core.log\tdebug-internal.log  debug.log\n",
            "\n",
            "/content/SpikeYOLO/wandb/run-20250218_125027-2lvpcaem/tmp:\n",
            "code\n",
            "\n",
            "/content/SpikeYOLO/wandb/run-20250218_125027-2lvpcaem/tmp/code:\n",
            "\n",
            "/content/SpikeYOLO/wandb/run-20250218_125323-b8iz5yyl:\n",
            "files  logs  run-b8iz5yyl.wandb  tmp\n",
            "\n",
            "/content/SpikeYOLO/wandb/run-20250218_125323-b8iz5yyl/files:\n",
            "config.yaml  output.log  requirements.txt  wandb-metadata.json\twandb-summary.json\n",
            "\n",
            "/content/SpikeYOLO/wandb/run-20250218_125323-b8iz5yyl/logs:\n",
            "debug-core.log\tdebug-internal.log  debug.log\n",
            "\n",
            "/content/SpikeYOLO/wandb/run-20250218_125323-b8iz5yyl/tmp:\n",
            "code\n",
            "\n",
            "/content/SpikeYOLO/wandb/run-20250218_125323-b8iz5yyl/tmp/code:\n",
            "\n",
            "/content/SpikeYOLO/wandb/run-20250218_125612-yzc6ex0x:\n",
            "files  logs  run-yzc6ex0x.wandb  tmp\n",
            "\n",
            "/content/SpikeYOLO/wandb/run-20250218_125612-yzc6ex0x/files:\n",
            "config.yaml  output.log  requirements.txt  wandb-metadata.json\twandb-summary.json\n",
            "\n",
            "/content/SpikeYOLO/wandb/run-20250218_125612-yzc6ex0x/logs:\n",
            "debug-core.log\tdebug-internal.log  debug.log\n",
            "\n",
            "/content/SpikeYOLO/wandb/run-20250218_125612-yzc6ex0x/tmp:\n",
            "code\n",
            "\n",
            "/content/SpikeYOLO/wandb/run-20250218_125612-yzc6ex0x/tmp/code:\n",
            "\n",
            "/content/SpikeYOLO/wandb/run-20250218_125939-jhhku8em:\n",
            "files  logs  run-jhhku8em.wandb  tmp\n",
            "\n",
            "/content/SpikeYOLO/wandb/run-20250218_125939-jhhku8em/files:\n",
            "config.yaml  output.log  requirements.txt  wandb-metadata.json\twandb-summary.json\n",
            "\n",
            "/content/SpikeYOLO/wandb/run-20250218_125939-jhhku8em/logs:\n",
            "debug-core.log\tdebug-internal.log  debug.log\n",
            "\n",
            "/content/SpikeYOLO/wandb/run-20250218_125939-jhhku8em/tmp:\n",
            "code\n",
            "\n",
            "/content/SpikeYOLO/wandb/run-20250218_125939-jhhku8em/tmp/code:\n",
            "\n",
            "/content/SpikeYOLO/wandb/run-20250218_130306-dopkalv0:\n",
            "files  logs  run-dopkalv0.wandb  tmp\n",
            "\n",
            "/content/SpikeYOLO/wandb/run-20250218_130306-dopkalv0/files:\n",
            "config.yaml  output.log  requirements.txt  wandb-metadata.json\twandb-summary.json\n",
            "\n",
            "/content/SpikeYOLO/wandb/run-20250218_130306-dopkalv0/logs:\n",
            "debug-core.log\tdebug-internal.log  debug.log\n",
            "\n",
            "/content/SpikeYOLO/wandb/run-20250218_130306-dopkalv0/tmp:\n",
            "code\n",
            "\n",
            "/content/SpikeYOLO/wandb/run-20250218_130306-dopkalv0/tmp/code:\n",
            "\n",
            "/content/SpikeYOLO/wandb/run-20250218_130711-p9af9pd8:\n",
            "files  logs  run-p9af9pd8.wandb  tmp\n",
            "\n",
            "/content/SpikeYOLO/wandb/run-20250218_130711-p9af9pd8/files:\n",
            "config.yaml  output.log  requirements.txt  wandb-metadata.json\twandb-summary.json\n",
            "\n",
            "/content/SpikeYOLO/wandb/run-20250218_130711-p9af9pd8/logs:\n",
            "debug-core.log\tdebug-internal.log  debug.log\n",
            "\n",
            "/content/SpikeYOLO/wandb/run-20250218_130711-p9af9pd8/tmp:\n",
            "code\n",
            "\n",
            "/content/SpikeYOLO/wandb/run-20250218_130711-p9af9pd8/tmp/code:\n"
          ]
        }
      ],
      "source": [
        "!ls -R /content/\n"
      ]
    },
    {
      "cell_type": "code",
      "execution_count": null,
      "metadata": {
        "colab": {
          "base_uri": "https://localhost:8080/"
        },
        "id": "KUpEzNgUGao8",
        "outputId": "500ebd12-c34a-4635-ac94-037e78f3b3c2"
      },
      "outputs": [
        {
          "output_type": "stream",
          "name": "stdout",
          "text": [
            "path: /content/coco_subset\n",
            "train: images/train2017\n",
            "val: images/train2017\n",
            "nc: 80\n",
            "names: [\"person\", \"bicycle\", \"car\", \"motorcycle\", ...]\n"
          ]
        }
      ],
      "source": [
        "!cat /content/coco_subset/coco.yaml\n"
      ]
    },
    {
      "cell_type": "code",
      "execution_count": null,
      "metadata": {
        "colab": {
          "base_uri": "https://localhost:8080/"
        },
        "id": "3es2deMFFV6k",
        "outputId": "2e1def73-971d-481a-9a93-6ff62423e5a5"
      },
      "outputs": [
        {
          "output_type": "stream",
          "name": "stdout",
          "text": [
            "Overwriting /content/coco_subset/coco.yaml\n"
          ]
        }
      ],
      "source": [
        "%%writefile /content/coco_subset/coco.yaml\n",
        "path: /content/coco_subset\n",
        "train: images\n",
        "val: images\n",
        "nc: 80\n",
        "names: [\"person\", \"bicycle\", \"car\", \"motorcycle\", \"airplane\", \"bus\", \"train\", \"truck\", \"boat\", \"traffic light\",\n",
        "        \"fire hydrant\", \"stop sign\", \"parking meter\", \"bench\", \"bird\", \"cat\", \"dog\", \"horse\", \"sheep\", \"cow\",\n",
        "        \"elephant\", \"bear\", \"zebra\", \"giraffe\", \"backpack\", \"umbrella\", \"handbag\", \"tie\", \"suitcase\", \"frisbee\",\n",
        "        \"skis\", \"snowboard\", \"sports ball\", \"kite\", \"baseball bat\", \"baseball glove\", \"skateboard\", \"surfboard\",\n",
        "        \"tennis racket\", \"bottle\", \"wine glass\", \"cup\", \"fork\", \"knife\", \"spoon\", \"bowl\", \"banana\", \"apple\",\n",
        "        \"sandwich\", \"orange\", \"broccoli\", \"carrot\", \"hot dog\", \"pizza\", \"donut\", \"cake\", \"chair\", \"couch\",\n",
        "        \"potted plant\", \"bed\", \"dining table\", \"toilet\", \"tv\", \"laptop\", \"mouse\", \"remote\", \"keyboard\",\n",
        "        \"cell phone\", \"microwave\", \"oven\", \"toaster\", \"sink\", \"refrigerator\", \"book\", \"clock\", \"vase\",\n",
        "        \"scissors\", \"teddy bear\", \"hair drier\", \"toothbrush\"]\n"
      ]
    },
    {
      "cell_type": "code",
      "execution_count": null,
      "metadata": {
        "colab": {
          "base_uri": "https://localhost:8080/"
        },
        "id": "ytrfYR2DGllD",
        "outputId": "3c76360c-bc9b-4d40-8a82-f47b453011bd"
      },
      "outputs": [
        {
          "output_type": "stream",
          "name": "stdout",
          "text": [
            "Overwriting /content/coco_subset/coco.yaml\n"
          ]
        }
      ],
      "source": [
        "%%writefile /content/coco_subset/coco.yaml\n",
        "path: /content/coco_subset\n",
        "train: images/train2017\n",
        "val: images/val2017\n",
        "nc: 80\n",
        "names: [\"person\", \"bicycle\", \"car\", \"motorcycle\", ...]  # Danh sách 80 lớp COCO\n"
      ]
    },
    {
      "cell_type": "code",
      "execution_count": null,
      "metadata": {
        "colab": {
          "base_uri": "https://localhost:8080/"
        },
        "id": "Y_p2vWZ_2JS0",
        "outputId": "971c6cc1-fa16-4a89-f952-ded150259b58"
      },
      "outputs": [
        {
          "output_type": "stream",
          "name": "stdout",
          "text": [
            "Reading package lists... Done\n",
            "Building dependency tree... Done\n",
            "Reading state information... Done\n",
            "unzip is already the newest version (6.0-26ubuntu3.2).\n",
            "0 upgraded, 0 newly installed, 0 to remove and 49 not upgraded.\n"
          ]
        }
      ],
      "source": [
        "!apt-get install unzip -y\n"
      ]
    },
    {
      "cell_type": "code",
      "execution_count": null,
      "metadata": {
        "colab": {
          "base_uri": "https://localhost:8080/"
        },
        "id": "RUNdMoZH1zXc",
        "outputId": "c2557bf8-5688-422b-f989-9f8d4a75804e"
      },
      "outputs": [
        {
          "output_type": "stream",
          "name": "stdout",
          "text": [
            "replace annotations/annotations/instances_train2017.json? [y]es, [n]o, [A]ll, [N]one, [r]ename: y\n",
            "replace annotations/annotations/instances_val2017.json? [y]es, [n]o, [A]ll, [N]one, [r]ename: y\n",
            "replace annotations/annotations/captions_train2017.json? [y]es, [n]o, [A]ll, [N]one, [r]ename: A\n",
            "train2017.zip       100%[===================>]  18.01G  59.0MB/s    in 5m 44s  \n",
            "replace images/train2017/000000000089.jpg? [y]es, [n]o, [A]ll, [N]one, [r]ename: y\n",
            "replace images/train2017/000000000450.jpg? [y]es, [n]o, [A]ll, [N]one, [r]ename: y\n",
            "replace images/train2017/000000000459.jpg? [y]es, [n]o, [A]ll, [N]one, [r]ename: A\n",
            "y\n"
          ]
        }
      ],
      "source": [
        "# Tải annotations (để trích xuất danh sách ảnh)\n",
        "!wget -q http://images.cocodataset.org/annotations/annotations_trainval2017.zip\n",
        "!unzip -q annotations_trainval2017.zip -d annotations\n",
        "!rm annotations_trainval2017.zip\n",
        "\n",
        "# Tải chỉ 100 ảnh từ tập train2017 (~500MB thay vì 18GB)\n",
        "!wget -q --show-progress http://images.cocodataset.org/zips/train2017.zip\n",
        "!unzip -q train2017.zip -d images/\n",
        "!rm train2017.zip\n",
        "!ls images/train2017 | head -100 | xargs -I {} mv images/train2017/{} images/\n",
        "!rm -rf images/train2017  # Xóa phần ảnh không dùng để tiết kiệm dung lượng\n"
      ]
    },
    {
      "cell_type": "code",
      "execution_count": null,
      "metadata": {
        "colab": {
          "base_uri": "https://localhost:8080/"
        },
        "id": "hzd951XXEaXF",
        "outputId": "c33fd5ed-a873-47a3-90d5-a92841062e60"
      },
      "outputs": [
        {
          "output_type": "stream",
          "name": "stdout",
          "text": [
            "annotations  coco.yaml\timages\tlabels\n"
          ]
        }
      ],
      "source": [
        "!ls /content/coco_subset\n"
      ]
    },
    {
      "cell_type": "code",
      "execution_count": null,
      "metadata": {
        "colab": {
          "base_uri": "https://localhost:8080/"
        },
        "id": "EjrhZuAlFUAb",
        "outputId": "f4d140d1-bb67-4b67-c7bc-0e04370be219"
      },
      "outputs": [
        {
          "output_type": "stream",
          "name": "stdout",
          "text": [
            "coco_subset  sample_data  SpikeYOLO\n"
          ]
        }
      ],
      "source": [
        "!ls /content/\n"
      ]
    },
    {
      "cell_type": "code",
      "execution_count": null,
      "metadata": {
        "colab": {
          "base_uri": "https://localhost:8080/",
          "height": 17
        },
        "id": "GLsL_CElFEAL",
        "outputId": "a72d16ea-1f00-4f6f-d058-8e2b8a6f278e"
      },
      "outputs": [
        {
          "output_type": "display_data",
          "data": {
            "text/plain": [
              "<IPython.core.display.Javascript object>"
            ],
            "application/javascript": [
              "\n",
              "      ((filepath) => {{\n",
              "        if (!google.colab.kernel.accessAllowed) {{\n",
              "          return;\n",
              "        }}\n",
              "        google.colab.files.view(filepath);\n",
              "      }})(\"/content/coco_subset/coco.yaml\")"
            ]
          },
          "metadata": {}
        }
      ],
      "source": [
        "from google.colab import files\n",
        "files.view('/content/coco_subset/coco.yaml')"
      ]
    },
    {
      "cell_type": "code",
      "execution_count": null,
      "metadata": {
        "colab": {
          "base_uri": "https://localhost:8080/"
        },
        "id": "0mGU8JCjHKoz",
        "outputId": "f699a568-2473-4047-9ce9-1b77f7c002f4"
      },
      "outputs": [
        {
          "output_type": "stream",
          "name": "stdout",
          "text": [
            "path: /content/coco_subset\n",
            "train: images/train2017\n",
            "val: images/val2017\n",
            "nc: 80\n",
            "names: [\"person\", \"bicycle\", \"car\", \"motorcycle\", ...]  # Danh sách 80 lớp COCO\n"
          ]
        }
      ],
      "source": [
        "!cat /content/coco_subset/coco.yaml\n",
        "\n"
      ]
    },
    {
      "cell_type": "code",
      "execution_count": null,
      "metadata": {
        "colab": {
          "base_uri": "https://localhost:8080/"
        },
        "id": "OnYT2DF0HS1N",
        "outputId": "971fb80a-3b5c-41c3-bc76-967bce98d664"
      },
      "outputs": [
        {
          "output_type": "stream",
          "name": "stdout",
          "text": [
            "/content/coco_subset/images:\n",
            "000000000009.jpg  000000000109.jpg  000000000241.jpg  000000000357.jpg\t000000000443.jpg\n",
            "000000000025.jpg  000000000110.jpg  000000000247.jpg  000000000359.jpg\t000000000446.jpg\n",
            "000000000030.jpg  000000000113.jpg  000000000250.jpg  000000000360.jpg\t000000000450.jpg\n",
            "000000000034.jpg  000000000127.jpg  000000000257.jpg  000000000368.jpg\t000000000459.jpg\n",
            "000000000036.jpg  000000000133.jpg  000000000260.jpg  000000000370.jpg\t000000000471.jpg\n",
            "000000000042.jpg  000000000136.jpg  000000000263.jpg  000000000382.jpg\t000000000472.jpg\n",
            "000000000049.jpg  000000000138.jpg  000000000283.jpg  000000000384.jpg\t000000000474.jpg\n",
            "000000000061.jpg  000000000142.jpg  000000000294.jpg  000000000387.jpg\t000000000486.jpg\n",
            "000000000064.jpg  000000000143.jpg  000000000307.jpg  000000000389.jpg\t000000000488.jpg\n",
            "000000000071.jpg  000000000144.jpg  000000000308.jpg  000000000394.jpg\t000000000490.jpg\n",
            "000000000072.jpg  000000000149.jpg  000000000309.jpg  000000000395.jpg\t000000000491.jpg\n",
            "000000000073.jpg  000000000151.jpg  000000000312.jpg  000000000397.jpg\t000000000502.jpg\n",
            "000000000074.jpg  000000000154.jpg  000000000315.jpg  000000000400.jpg\t000000000508.jpg\n",
            "000000000077.jpg  000000000164.jpg  000000000321.jpg  000000000404.jpg\t000000000510.jpg\n",
            "000000000078.jpg  000000000165.jpg  000000000322.jpg  000000000415.jpg\t000000000514.jpg\n",
            "000000000081.jpg  000000000192.jpg  000000000326.jpg  000000000419.jpg\t000000000520.jpg\n",
            "000000000086.jpg  000000000194.jpg  000000000328.jpg  000000000428.jpg\t000000000529.jpg\n",
            "000000000089.jpg  000000000196.jpg  000000000332.jpg  000000000431.jpg\t000000000531.jpg\n",
            "000000000092.jpg  000000000201.jpg  000000000338.jpg  000000000436.jpg\t000000000532.jpg\n",
            "000000000094.jpg  000000000208.jpg  000000000349.jpg  000000000438.jpg\t000000000536.jpg\n"
          ]
        }
      ],
      "source": [
        "!ls -R /content/coco_subset/images\n"
      ]
    },
    {
      "cell_type": "code",
      "execution_count": null,
      "metadata": {
        "id": "TaBecx5zHjpk"
      },
      "outputs": [],
      "source": [
        "!mkdir -p /content/coco_subset/images/train2017\n",
        "!mv /content/coco_subset/images/*.jpg /content/coco_subset/images/train2017/\n"
      ]
    },
    {
      "cell_type": "code",
      "execution_count": null,
      "metadata": {
        "colab": {
          "base_uri": "https://localhost:8080/"
        },
        "id": "81hTT3k1Hki7",
        "outputId": "5bd5a8b4-54ab-4430-92aa-c1dbde584c37"
      },
      "outputs": [
        {
          "output_type": "stream",
          "name": "stdout",
          "text": [
            "Overwriting /content/coco_subset/coco.yaml\n"
          ]
        }
      ],
      "source": [
        "%%writefile /content/coco_subset/coco.yaml\n",
        "path: /content/coco_subset\n",
        "train: images/train2017\n",
        "val: images/train2017  # Nếu chưa có val, có thể dùng chung train\n",
        "nc: 80\n",
        "names: [\"person\", \"bicycle\", \"car\", \"motorcycle\", ...]\n"
      ]
    },
    {
      "cell_type": "code",
      "execution_count": null,
      "metadata": {
        "colab": {
          "base_uri": "https://localhost:8080/"
        },
        "id": "C5QDZsMJH7NE",
        "outputId": "a28f37cf-7187-4321-b293-2b28a80a305c"
      },
      "outputs": [
        {
          "output_type": "stream",
          "name": "stdout",
          "text": [
            "path: /content/coco_subset\n",
            "train: images/train2017\n",
            "val: images/train2017  # Nếu chưa có val, có thể dùng chung train\n",
            "nc: 80\n",
            "names: [\"person\", \"bicycle\", \"car\", \"motorcycle\", ...]\n"
          ]
        }
      ],
      "source": [
        "!cat /content/coco_subset/coco.yaml\n"
      ]
    },
    {
      "cell_type": "code",
      "execution_count": null,
      "metadata": {
        "colab": {
          "base_uri": "https://localhost:8080/"
        },
        "id": "ijUvMkvkH8cj",
        "outputId": "cc52ce01-b903-4dae-f070-9297c66f663a"
      },
      "outputs": [
        {
          "output_type": "stream",
          "name": "stdout",
          "text": [
            "Overwriting /content/coco_subset/coco.yaml\n"
          ]
        }
      ],
      "source": [
        "%%writefile /content/coco_subset/coco.yaml\n",
        "path: /content/coco_subset\n",
        "train: images/train2017\n",
        "val: images/train2017\n",
        "nc: 80\n",
        "names: [\"person\", \"bicycle\", \"car\", \"motorcycle\", ...]\n"
      ]
    },
    {
      "cell_type": "code",
      "execution_count": null,
      "metadata": {
        "id": "jOAfN3wiIM-M"
      },
      "outputs": [],
      "source": [
        "!rm -rf /root/.config/Ultralytics\n"
      ]
    },
    {
      "cell_type": "code",
      "source": [
        "!python train.py --data /content/coco_subset/coco.yaml --epochs 100 --device 0\n"
      ],
      "metadata": {
        "colab": {
          "base_uri": "https://localhost:8080/"
        },
        "id": "Y8AGZMyVKv70",
        "outputId": "971c444c-45ce-45d8-869b-346756a39d06"
      },
      "execution_count": null,
      "outputs": [
        {
          "output_type": "stream",
          "name": "stdout",
          "text": [
            "python3: can't open file '/content/coco_subset/train.py': [Errno 2] No such file or directory\n"
          ]
        }
      ]
    },
    {
      "cell_type": "code",
      "source": [
        "!find /content -name \"train.py\"\n"
      ],
      "metadata": {
        "colab": {
          "base_uri": "https://localhost:8080/"
        },
        "id": "6wgCcfo2N0pF",
        "outputId": "4cf16030-9668-45fa-8d01-6be1a9e0f19a"
      },
      "execution_count": null,
      "outputs": [
        {
          "output_type": "stream",
          "name": "stdout",
          "text": [
            "/content/SpikeYOLO/ultralytics/models/yolo/classify/train.py\n",
            "/content/SpikeYOLO/ultralytics/models/yolo/segment/train.py\n",
            "/content/SpikeYOLO/ultralytics/models/yolo/detect/train.py\n",
            "/content/SpikeYOLO/ultralytics/models/yolo/pose/train.py\n",
            "/content/SpikeYOLO/ultralytics/models/rtdetr/train.py\n",
            "/content/SpikeYOLO/train.py\n",
            "/content/SpikeYOLO/SpikeYOLO_for_Gen1/DESC/RENet/src/train.py\n",
            "/content/SpikeYOLO/SpikeYOLO_for_Gen1/ultralytics/models/yolo/classify/train.py\n",
            "/content/SpikeYOLO/SpikeYOLO_for_Gen1/ultralytics/models/yolo/segment/train.py\n",
            "/content/SpikeYOLO/SpikeYOLO_for_Gen1/ultralytics/models/yolo/detect/train.py\n",
            "/content/SpikeYOLO/SpikeYOLO_for_Gen1/ultralytics/models/yolo/pose/train.py\n",
            "/content/SpikeYOLO/SpikeYOLO_for_Gen1/ultralytics/models/rtdetr/train.py\n",
            "/content/SpikeYOLO/SpikeYOLO_for_Gen1/train.py\n"
          ]
        }
      ]
    },
    {
      "cell_type": "code",
      "source": [
        "!python /content/SpikeYOLO/train.py --data /content/coco_subset/coco.yaml --epochs 100 --device 0\n"
      ],
      "metadata": {
        "colab": {
          "base_uri": "https://localhost:8080/"
        },
        "id": "UdhNFWFDN4Ts",
        "outputId": "ecf1b26a-6b56-481f-e842-71ba0e0ed76c"
      },
      "execution_count": null,
      "outputs": [
        {
          "output_type": "stream",
          "name": "stdout",
          "text": [
            "2025-02-18 13:20:41.834875: E external/local_xla/xla/stream_executor/cuda/cuda_fft.cc:485] Unable to register cuFFT factory: Attempting to register factory for plugin cuFFT when one has already been registered\n",
            "2025-02-18 13:20:41.855113: E external/local_xla/xla/stream_executor/cuda/cuda_dnn.cc:8454] Unable to register cuDNN factory: Attempting to register factory for plugin cuDNN when one has already been registered\n",
            "2025-02-18 13:20:41.861320: E external/local_xla/xla/stream_executor/cuda/cuda_blas.cc:1452] Unable to register cuBLAS factory: Attempting to register factory for plugin cuBLAS when one has already been registered\n",
            "/usr/local/lib/python3.10/dist-packages/timm/models/layers/__init__.py:48: FutureWarning: Importing from timm.models.layers is deprecated, please import via timm.layers\n",
            "  warnings.warn(f\"Importing from {__name__} is deprecated, please import via timm.layers\", FutureWarning)\n",
            "/usr/local/lib/python3.10/dist-packages/timm/models/registry.py:4: FutureWarning: Importing from timm.models.registry is deprecated, please import via timm.models\n",
            "  warnings.warn(f\"Importing from {__name__} is deprecated, please import via timm.models\", FutureWarning)\n",
            "\n",
            "                   from  n    params  module                                       arguments                     \n",
            "  0                  -1  1         0  ultralytics.nn.modules.yolo_spikformer.MS_GetT[3, 3, 1]                     \n",
            "  1                  -1  1     14400  ultralytics.nn.modules.yolo_spikformer.MS_DownSampling[3, 96, 7, 4, 2, True]        \n",
            "  2                  -1  2   1425984  ultralytics.nn.modules.yolo_spikformer.MS_AllConvBlock[96, 4, 7]                    \n",
            "  3                  -1  1    166464  ultralytics.nn.modules.yolo_spikformer.MS_DownSampling[96, 192, 3, 2, 1, False]     \n",
            "  4                  -1  3   8480448  ultralytics.nn.modules.yolo_spikformer.MS_AllConvBlock[192, 4, 7]                   \n",
            "  5                  -1  1    664704  ultralytics.nn.modules.yolo_spikformer.MS_DownSampling[192, 384, 3, 2, 1, False]    \n",
            "  6                  -1  4  12074496  ultralytics.nn.modules.yolo_spikformer.MS_ConvBlock[384, 3, 7]                   \n",
            "  7                  -1  1   2656512  ultralytics.nn.modules.yolo_spikformer.MS_DownSampling[384, 768, 3, 2, 1, False]    \n",
            "  8                  -1  2  15590400  ultralytics.nn.modules.yolo_spikformer.MS_ConvBlock[768, 2, 7]                   \n",
            "  9                  -1  1   1476864  ultralytics.nn.modules.yolo_spikformer.SpikeSPPF[768, 768, 5]                 \n",
            " 10                  -1  1    295680  ultralytics.nn.modules.yolo_spikformer.MS_StandardConv[768, 384, 1, 1]              \n",
            " 11                  -1  1         0  torch.nn.modules.upsampling.Upsample         [None, (1, 2, 2), 'nearest']  \n",
            " 12                  -1  1   3018624  ultralytics.nn.modules.yolo_spikformer.MS_ConvBlock[384, 3, 7]                   \n",
            " 13             [-1, 6]  1         0  ultralytics.nn.modules.conv.Concat           [2]                           \n",
            " 14                  -1  1    147840  ultralytics.nn.modules.yolo_spikformer.MS_StandardConv[768, 192, 1, 1]              \n",
            " 15                  -1  1         0  torch.nn.modules.upsampling.Upsample         [None, (1, 2, 2), 'nearest']  \n",
            " 16                  -1  1   2826816  ultralytics.nn.modules.yolo_spikformer.MS_AllConvBlock[192, 4, 7]                   \n",
            " 17             [-1, 4]  1         0  ultralytics.nn.modules.conv.Concat           [2]                           \n",
            " 18                  -1  1     74112  ultralytics.nn.modules.yolo_spikformer.MS_StandardConv[384, 192, 1, 1]              \n",
            " 19                  -1  1   2826816  ultralytics.nn.modules.yolo_spikformer.MS_AllConvBlock[192, 4, 7]                   \n",
            " 20                  -1  1    332160  ultralytics.nn.modules.yolo_spikformer.MS_StandardConv[192, 192, 3, 2]              \n",
            " 21            [-1, 14]  1         0  ultralytics.nn.modules.conv.Concat           [2]                           \n",
            " 22                  -1  1   3018624  ultralytics.nn.modules.yolo_spikformer.MS_ConvBlock[384, 3, 7]                   \n",
            " 23                  -1  1   1327872  ultralytics.nn.modules.yolo_spikformer.MS_StandardConv[384, 384, 3, 2]              \n",
            " 24            [-1, 10]  1         0  ultralytics.nn.modules.conv.Concat           [2]                           \n",
            " 25                  -1  1   4834560  ultralytics.nn.modules.yolo_spikformer.MS_ConvBlock[768, 1, 7]                   \n",
            " 26        [19, 22, 25]  1   4264384  ultralytics.nn.modules.yolo_spikformer.SpikeDetect[80, [192, 384, 768]]         \n",
            "/usr/local/lib/python3.10/dist-packages/torch/functional.py:534: UserWarning: torch.meshgrid: in an upcoming release, it will be required to pass the indexing argument. (Triggered internally at ../aten/src/ATen/native/TensorShape.cpp:3595.)\n",
            "  return _VF.meshgrid(tensors, **kwargs)  # type: ignore[attr-defined]\n",
            "snn_YOLOv8l summary: 771 layers, 65517760 parameters, 65517744 gradients, 404.3 GFLOPs\n",
            "\n",
            "New https://pypi.org/project/ultralytics/8.3.75 available 😃 Update with 'pip install -U ultralytics'\n",
            "Ultralytics YOLOv8.0.197 🚀 Python-3.10.12 torch-2.5.1+cu121 CUDA:0 (Tesla T4, 15095MiB)\n",
            "self.save_dir /content/SpikeYOLO/runs/detect/train10\n",
            "\u001b[34m\u001b[1mengine/trainer: \u001b[0mtask=detect, mode=train, model=snn_yolov8l.yaml, data=coco.yaml, epochs=100, patience=200, batch=40, imgsz=640, save=True, save_period=-1, cache=False, device=0, workers=8, project=None, name=None, exist_ok=False, pretrained=True, optimizer=SGD, verbose=True, seed=0, deterministic=True, single_cls=False, rect=False, cos_lr=False, close_mosaic=10, resume=False, amp=True, fraction=1.0, profile=False, freeze=None, overlap_mask=True, mask_ratio=4, dropout=0.0, val=True, split=val, save_json=False, save_hybrid=False, conf=None, iou=0.7, max_det=300, half=False, dnn=False, plots=True, source=None, show=False, save_txt=False, save_conf=False, save_crop=False, show_labels=True, show_conf=True, vid_stride=1, stream_buffer=False, line_width=None, visualize=False, augment=False, agnostic_nms=False, classes=None, retina_masks=False, boxes=True, format=torchscript, keras=False, optimize=False, int8=False, dynamic=False, simplify=False, opset=None, workspace=4, nms=False, lr0=0.01, lrf=0.004, momentum=0.937, weight_decay=0.0005, warmup_epochs=10, warmup_momentum=0.8, warmup_bias_lr=0.1, box=7.5, cls=0.5, dfl=1.5, pose=12.0, kobj=1.0, label_smoothing=0.0, nbs=64, hsv_h=0.015, hsv_s=0.7, hsv_v=0.4, degrees=0.0, translate=0.1, scale=0.5, shear=0.0, perspective=0.0, flipud=0.0, fliplr=0.5, mosaic=1.0, mixup=0.0, copy_paste=0.0, cfg=None, tracker=botsort.yaml, save_dir=/content/SpikeYOLO/runs/detect/train10\n",
            "Traceback (most recent call last):\n",
            "  File \"/content/SpikeYOLO/ultralytics/engine/trainer.py\", line 120, in __init__\n",
            "    self.data = check_det_dataset(self.args.data)\n",
            "  File \"/content/SpikeYOLO/ultralytics/data/utils.py\", line 266, in check_det_dataset\n",
            "    raise SyntaxError(emojis(f\"{dataset} 'names' length {len(data['names'])} and 'nc: {data['nc']}' must match.\"))\n",
            "SyntaxError: coco.yaml 'names' length 5 and 'nc: 80' must match.\n",
            "\n",
            "The above exception was the direct cause of the following exception:\n",
            "\n",
            "Traceback (most recent call last):\n",
            "  File \"/content/SpikeYOLO/train.py\", line 7, in <module>\n",
            "    model.train(data=\"coco.yaml\", device=0, epochs=100)  # Sử dụng GPU số 0\n",
            "  File \"/content/SpikeYOLO/ultralytics/engine/model.py\", line 336, in train\n",
            "    self.trainer = (trainer or self._smart_load('trainer'))(overrides=args, _callbacks=self.callbacks)\n",
            "  File \"/content/SpikeYOLO/ultralytics/engine/trainer.py\", line 124, in __init__\n",
            "    raise RuntimeError(emojis(f\"Dataset '{clean_url(self.args.data)}' error ❌ {e}\")) from e\n",
            "RuntimeError: Dataset 'coco.yaml' error ❌ coco.yaml 'names' length 5 and 'nc: 80' must match.\n"
          ]
        }
      ]
    },
    {
      "cell_type": "code",
      "source": [
        "yaml_path = \"/content/coco_subset/coco.yaml\"\n",
        "\n",
        "coco_classes = [\n",
        "    \"person\", \"bicycle\", \"car\", \"motorcycle\", \"airplane\", \"bus\", \"train\", \"truck\",\n",
        "    \"boat\", \"traffic light\", \"fire hydrant\", \"stop sign\", \"parking meter\", \"bench\",\n",
        "    \"bird\", \"cat\", \"dog\", \"horse\", \"sheep\", \"cow\", \"elephant\", \"bear\", \"zebra\",\n",
        "    \"giraffe\", \"backpack\", \"umbrella\", \"handbag\", \"tie\", \"suitcase\", \"frisbee\",\n",
        "    \"skis\", \"snowboard\", \"sports ball\", \"kite\", \"baseball bat\", \"baseball glove\",\n",
        "    \"skateboard\", \"surfboard\", \"tennis racket\", \"bottle\", \"wine glass\", \"cup\",\n",
        "    \"fork\", \"knife\", \"spoon\", \"bowl\", \"banana\", \"apple\", \"sandwich\", \"orange\",\n",
        "    \"broccoli\", \"carrot\", \"hot dog\", \"pizza\", \"donut\", \"cake\", \"chair\", \"couch\",\n",
        "    \"potted plant\", \"bed\", \"dining table\", \"toilet\", \"TV\", \"laptop\", \"mouse\",\n",
        "    \"remote\", \"keyboard\", \"cell phone\", \"microwave\", \"oven\", \"toaster\", \"sink\",\n",
        "    \"refrigerator\", \"book\", \"clock\", \"vase\", \"scissors\", \"teddy bear\", \"hair drier\",\n",
        "    \"toothbrush\"\n",
        "]\n",
        "\n",
        "yaml_content = f\"nc: 80\\nnames: {coco_classes}\\n\"\n",
        "\n",
        "with open(yaml_path, \"w\") as f:\n",
        "    f.write(yaml_content)\n",
        "\n",
        "print(\"✅ File coco.yaml đã được cập nhật thành công!\")\n"
      ],
      "metadata": {
        "colab": {
          "base_uri": "https://localhost:8080/"
        },
        "id": "xSuYVd3TOdEU",
        "outputId": "41c3907e-c92c-4e3a-d407-fd04cef0e296"
      },
      "execution_count": null,
      "outputs": [
        {
          "output_type": "stream",
          "name": "stdout",
          "text": [
            "✅ File coco.yaml đã được cập nhật thành công!\n"
          ]
        }
      ]
    },
    {
      "cell_type": "code",
      "source": [
        "!python /content/SpikeYOLO/train.py --data /content/coco_subset/coco.yaml --epochs 100 --device 0\n"
      ],
      "metadata": {
        "colab": {
          "base_uri": "https://localhost:8080/"
        },
        "id": "S7iHd6rROhZM",
        "outputId": "d2cba0a7-6d05-4b12-fbc1-38d0b08ba7c4"
      },
      "execution_count": null,
      "outputs": [
        {
          "output_type": "stream",
          "name": "stdout",
          "text": [
            "2025-02-18 13:23:48.806119: E external/local_xla/xla/stream_executor/cuda/cuda_fft.cc:485] Unable to register cuFFT factory: Attempting to register factory for plugin cuFFT when one has already been registered\n",
            "2025-02-18 13:23:48.826739: E external/local_xla/xla/stream_executor/cuda/cuda_dnn.cc:8454] Unable to register cuDNN factory: Attempting to register factory for plugin cuDNN when one has already been registered\n",
            "2025-02-18 13:23:48.833029: E external/local_xla/xla/stream_executor/cuda/cuda_blas.cc:1452] Unable to register cuBLAS factory: Attempting to register factory for plugin cuBLAS when one has already been registered\n",
            "/usr/local/lib/python3.10/dist-packages/timm/models/layers/__init__.py:48: FutureWarning: Importing from timm.models.layers is deprecated, please import via timm.layers\n",
            "  warnings.warn(f\"Importing from {__name__} is deprecated, please import via timm.layers\", FutureWarning)\n",
            "/usr/local/lib/python3.10/dist-packages/timm/models/registry.py:4: FutureWarning: Importing from timm.models.registry is deprecated, please import via timm.models\n",
            "  warnings.warn(f\"Importing from {__name__} is deprecated, please import via timm.models\", FutureWarning)\n",
            "\n",
            "                   from  n    params  module                                       arguments                     \n",
            "  0                  -1  1         0  ultralytics.nn.modules.yolo_spikformer.MS_GetT[3, 3, 1]                     \n",
            "  1                  -1  1     14400  ultralytics.nn.modules.yolo_spikformer.MS_DownSampling[3, 96, 7, 4, 2, True]        \n",
            "  2                  -1  2   1425984  ultralytics.nn.modules.yolo_spikformer.MS_AllConvBlock[96, 4, 7]                    \n",
            "  3                  -1  1    166464  ultralytics.nn.modules.yolo_spikformer.MS_DownSampling[96, 192, 3, 2, 1, False]     \n",
            "  4                  -1  3   8480448  ultralytics.nn.modules.yolo_spikformer.MS_AllConvBlock[192, 4, 7]                   \n",
            "  5                  -1  1    664704  ultralytics.nn.modules.yolo_spikformer.MS_DownSampling[192, 384, 3, 2, 1, False]    \n",
            "  6                  -1  4  12074496  ultralytics.nn.modules.yolo_spikformer.MS_ConvBlock[384, 3, 7]                   \n",
            "  7                  -1  1   2656512  ultralytics.nn.modules.yolo_spikformer.MS_DownSampling[384, 768, 3, 2, 1, False]    \n",
            "  8                  -1  2  15590400  ultralytics.nn.modules.yolo_spikformer.MS_ConvBlock[768, 2, 7]                   \n",
            "  9                  -1  1   1476864  ultralytics.nn.modules.yolo_spikformer.SpikeSPPF[768, 768, 5]                 \n",
            " 10                  -1  1    295680  ultralytics.nn.modules.yolo_spikformer.MS_StandardConv[768, 384, 1, 1]              \n",
            " 11                  -1  1         0  torch.nn.modules.upsampling.Upsample         [None, (1, 2, 2), 'nearest']  \n",
            " 12                  -1  1   3018624  ultralytics.nn.modules.yolo_spikformer.MS_ConvBlock[384, 3, 7]                   \n",
            " 13             [-1, 6]  1         0  ultralytics.nn.modules.conv.Concat           [2]                           \n",
            " 14                  -1  1    147840  ultralytics.nn.modules.yolo_spikformer.MS_StandardConv[768, 192, 1, 1]              \n",
            " 15                  -1  1         0  torch.nn.modules.upsampling.Upsample         [None, (1, 2, 2), 'nearest']  \n",
            " 16                  -1  1   2826816  ultralytics.nn.modules.yolo_spikformer.MS_AllConvBlock[192, 4, 7]                   \n",
            " 17             [-1, 4]  1         0  ultralytics.nn.modules.conv.Concat           [2]                           \n",
            " 18                  -1  1     74112  ultralytics.nn.modules.yolo_spikformer.MS_StandardConv[384, 192, 1, 1]              \n",
            " 19                  -1  1   2826816  ultralytics.nn.modules.yolo_spikformer.MS_AllConvBlock[192, 4, 7]                   \n",
            " 20                  -1  1    332160  ultralytics.nn.modules.yolo_spikformer.MS_StandardConv[192, 192, 3, 2]              \n",
            " 21            [-1, 14]  1         0  ultralytics.nn.modules.conv.Concat           [2]                           \n",
            " 22                  -1  1   3018624  ultralytics.nn.modules.yolo_spikformer.MS_ConvBlock[384, 3, 7]                   \n",
            " 23                  -1  1   1327872  ultralytics.nn.modules.yolo_spikformer.MS_StandardConv[384, 384, 3, 2]              \n",
            " 24            [-1, 10]  1         0  ultralytics.nn.modules.conv.Concat           [2]                           \n",
            " 25                  -1  1   4834560  ultralytics.nn.modules.yolo_spikformer.MS_ConvBlock[768, 1, 7]                   \n",
            " 26        [19, 22, 25]  1   4264384  ultralytics.nn.modules.yolo_spikformer.SpikeDetect[80, [192, 384, 768]]         \n",
            "/usr/local/lib/python3.10/dist-packages/torch/functional.py:534: UserWarning: torch.meshgrid: in an upcoming release, it will be required to pass the indexing argument. (Triggered internally at ../aten/src/ATen/native/TensorShape.cpp:3595.)\n",
            "  return _VF.meshgrid(tensors, **kwargs)  # type: ignore[attr-defined]\n",
            "snn_YOLOv8l summary: 771 layers, 65517760 parameters, 65517744 gradients, 404.3 GFLOPs\n",
            "\n",
            "New https://pypi.org/project/ultralytics/8.3.75 available 😃 Update with 'pip install -U ultralytics'\n",
            "Ultralytics YOLOv8.0.197 🚀 Python-3.10.12 torch-2.5.1+cu121 CUDA:0 (Tesla T4, 15095MiB)\n",
            "self.save_dir /content/SpikeYOLO/runs/detect/train11\n",
            "\u001b[34m\u001b[1mengine/trainer: \u001b[0mtask=detect, mode=train, model=snn_yolov8l.yaml, data=coco.yaml, epochs=100, patience=200, batch=40, imgsz=640, save=True, save_period=-1, cache=False, device=0, workers=8, project=None, name=None, exist_ok=False, pretrained=True, optimizer=SGD, verbose=True, seed=0, deterministic=True, single_cls=False, rect=False, cos_lr=False, close_mosaic=10, resume=False, amp=True, fraction=1.0, profile=False, freeze=None, overlap_mask=True, mask_ratio=4, dropout=0.0, val=True, split=val, save_json=False, save_hybrid=False, conf=None, iou=0.7, max_det=300, half=False, dnn=False, plots=True, source=None, show=False, save_txt=False, save_conf=False, save_crop=False, show_labels=True, show_conf=True, vid_stride=1, stream_buffer=False, line_width=None, visualize=False, augment=False, agnostic_nms=False, classes=None, retina_masks=False, boxes=True, format=torchscript, keras=False, optimize=False, int8=False, dynamic=False, simplify=False, opset=None, workspace=4, nms=False, lr0=0.01, lrf=0.004, momentum=0.937, weight_decay=0.0005, warmup_epochs=10, warmup_momentum=0.8, warmup_bias_lr=0.1, box=7.5, cls=0.5, dfl=1.5, pose=12.0, kobj=1.0, label_smoothing=0.0, nbs=64, hsv_h=0.015, hsv_s=0.7, hsv_v=0.4, degrees=0.0, translate=0.1, scale=0.5, shear=0.0, perspective=0.0, flipud=0.0, fliplr=0.5, mosaic=1.0, mixup=0.0, copy_paste=0.0, cfg=None, tracker=botsort.yaml, save_dir=/content/SpikeYOLO/runs/detect/train11\n",
            "Traceback (most recent call last):\n",
            "  File \"/content/SpikeYOLO/ultralytics/engine/trainer.py\", line 120, in __init__\n",
            "    self.data = check_det_dataset(self.args.data)\n",
            "  File \"/content/SpikeYOLO/ultralytics/data/utils.py\", line 261, in check_det_dataset\n",
            "    raise SyntaxError(\n",
            "SyntaxError: coco.yaml 'train:' key missing ❌.\n",
            "'train' and 'val' are required in all data YAMLs.\n",
            "\n",
            "The above exception was the direct cause of the following exception:\n",
            "\n",
            "Traceback (most recent call last):\n",
            "  File \"/content/SpikeYOLO/train.py\", line 7, in <module>\n",
            "    model.train(data=\"coco.yaml\", device=0, epochs=100)  # Sử dụng GPU số 0\n",
            "  File \"/content/SpikeYOLO/ultralytics/engine/model.py\", line 336, in train\n",
            "    self.trainer = (trainer or self._smart_load('trainer'))(overrides=args, _callbacks=self.callbacks)\n",
            "  File \"/content/SpikeYOLO/ultralytics/engine/trainer.py\", line 124, in __init__\n",
            "    raise RuntimeError(emojis(f\"Dataset '{clean_url(self.args.data)}' error ❌ {e}\")) from e\n",
            "RuntimeError: Dataset 'coco.yaml' error ❌ coco.yaml 'train:' key missing ❌.\n",
            "'train' and 'val' are required in all data YAMLs.\n"
          ]
        }
      ]
    },
    {
      "cell_type": "code",
      "source": [
        "!ls -lh /content/coco_subset/coco.yaml\n"
      ],
      "metadata": {
        "colab": {
          "base_uri": "https://localhost:8080/"
        },
        "id": "sbSA7GsGQXfJ",
        "outputId": "a712bf4e-33bd-4de1-a3d9-2ea1d8cae133"
      },
      "execution_count": null,
      "outputs": [
        {
          "output_type": "stream",
          "name": "stdout",
          "text": [
            "-rw-r--r-- 1 root root 876 Feb 18 13:23 /content/coco_subset/coco.yaml\n"
          ]
        }
      ]
    },
    {
      "cell_type": "code",
      "source": [
        "!cat /content/coco_subset/coco.yaml\n"
      ],
      "metadata": {
        "colab": {
          "base_uri": "https://localhost:8080/"
        },
        "id": "AW33XHtgQaGc",
        "outputId": "23a3ade0-d275-4692-d88c-592e292a6173"
      },
      "execution_count": null,
      "outputs": [
        {
          "output_type": "stream",
          "name": "stdout",
          "text": [
            "nc: 80\n",
            "names: ['person', 'bicycle', 'car', 'motorcycle', 'airplane', 'bus', 'train', 'truck', 'boat', 'traffic light', 'fire hydrant', 'stop sign', 'parking meter', 'bench', 'bird', 'cat', 'dog', 'horse', 'sheep', 'cow', 'elephant', 'bear', 'zebra', 'giraffe', 'backpack', 'umbrella', 'handbag', 'tie', 'suitcase', 'frisbee', 'skis', 'snowboard', 'sports ball', 'kite', 'baseball bat', 'baseball glove', 'skateboard', 'surfboard', 'tennis racket', 'bottle', 'wine glass', 'cup', 'fork', 'knife', 'spoon', 'bowl', 'banana', 'apple', 'sandwich', 'orange', 'broccoli', 'carrot', 'hot dog', 'pizza', 'donut', 'cake', 'chair', 'couch', 'potted plant', 'bed', 'dining table', 'toilet', 'TV', 'laptop', 'mouse', 'remote', 'keyboard', 'cell phone', 'microwave', 'oven', 'toaster', 'sink', 'refrigerator', 'book', 'clock', 'vase', 'scissors', 'teddy bear', 'hair drier', 'toothbrush']\n"
          ]
        }
      ]
    },
    {
      "cell_type": "code",
      "source": [
        "yaml_path = \"/content/coco_subset/coco.yaml\"\n",
        "\n",
        "yaml_content = \"\"\"path: /content/coco_subset\n",
        "train: images/train2017\n",
        "val: images/val2017\n",
        "nc: 80\n",
        "names: [\"person\", \"bicycle\", \"car\", \"motorcycle\", \"airplane\", \"bus\", \"train\", \"truck\",\n",
        "        \"boat\", \"traffic light\", \"fire hydrant\", \"stop sign\", \"parking meter\", \"bench\",\n",
        "        \"bird\", \"cat\", \"dog\", \"horse\", \"sheep\", \"cow\", \"elephant\", \"bear\", \"zebra\",\n",
        "        \"giraffe\", \"backpack\", \"umbrella\", \"handbag\", \"tie\", \"suitcase\", \"frisbee\",\n",
        "        \"skis\", \"snowboard\", \"sports ball\", \"kite\", \"baseball bat\", \"baseball glove\",\n",
        "        \"skateboard\", \"surfboard\", \"tennis racket\", \"bottle\", \"wine glass\", \"cup\",\n",
        "        \"fork\", \"knife\", \"spoon\", \"bowl\", \"banana\", \"apple\", \"sandwich\", \"orange\",\n",
        "        \"broccoli\", \"carrot\", \"hot dog\", \"pizza\", \"donut\", \"cake\", \"chair\", \"couch\",\n",
        "        \"potted plant\", \"bed\", \"dining table\", \"toilet\", \"TV\", \"laptop\", \"mouse\",\n",
        "        \"remote\", \"keyboard\", \"cell phone\", \"microwave\", \"oven\", \"toaster\", \"sink\",\n",
        "        \"refrigerator\", \"book\", \"clock\", \"vase\", \"scissors\", \"teddy bear\", \"hair drier\",\n",
        "        \"toothbrush\"]\n",
        "\"\"\"\n",
        "\n",
        "with open(yaml_path, \"w\") as f:\n",
        "    f.write(yaml_content)\n",
        "\n",
        "print(\"✅ File coco.yaml đã được cập nhật thành công!\")\n"
      ],
      "metadata": {
        "colab": {
          "base_uri": "https://localhost:8080/"
        },
        "id": "a3HesT7iQjAo",
        "outputId": "1945b384-1f4b-4591-cb9c-4e84830c2d88"
      },
      "execution_count": null,
      "outputs": [
        {
          "output_type": "stream",
          "name": "stdout",
          "text": [
            "✅ File coco.yaml đã được cập nhật thành công!\n"
          ]
        }
      ]
    },
    {
      "cell_type": "code",
      "source": [
        "!cat /content/coco_subset/coco.yaml\n"
      ],
      "metadata": {
        "colab": {
          "base_uri": "https://localhost:8080/"
        },
        "id": "gWJ8q9oNQnYL",
        "outputId": "b490e8cf-4db9-4430-ce80-c377a4184435"
      },
      "execution_count": null,
      "outputs": [
        {
          "output_type": "stream",
          "name": "stdout",
          "text": [
            "path: /content/coco_subset\n",
            "train: images/train2017\n",
            "val: images/val2017\n",
            "nc: 80\n",
            "names: [\"person\", \"bicycle\", \"car\", \"motorcycle\", \"airplane\", \"bus\", \"train\", \"truck\",\n",
            "        \"boat\", \"traffic light\", \"fire hydrant\", \"stop sign\", \"parking meter\", \"bench\",\n",
            "        \"bird\", \"cat\", \"dog\", \"horse\", \"sheep\", \"cow\", \"elephant\", \"bear\", \"zebra\",\n",
            "        \"giraffe\", \"backpack\", \"umbrella\", \"handbag\", \"tie\", \"suitcase\", \"frisbee\",\n",
            "        \"skis\", \"snowboard\", \"sports ball\", \"kite\", \"baseball bat\", \"baseball glove\",\n",
            "        \"skateboard\", \"surfboard\", \"tennis racket\", \"bottle\", \"wine glass\", \"cup\",\n",
            "        \"fork\", \"knife\", \"spoon\", \"bowl\", \"banana\", \"apple\", \"sandwich\", \"orange\",\n",
            "        \"broccoli\", \"carrot\", \"hot dog\", \"pizza\", \"donut\", \"cake\", \"chair\", \"couch\",\n",
            "        \"potted plant\", \"bed\", \"dining table\", \"toilet\", \"TV\", \"laptop\", \"mouse\",\n",
            "        \"remote\", \"keyboard\", \"cell phone\", \"microwave\", \"oven\", \"toaster\", \"sink\",\n",
            "        \"refrigerator\", \"book\", \"clock\", \"vase\", \"scissors\", \"teddy bear\", \"hair drier\",\n",
            "        \"toothbrush\"]\n"
          ]
        }
      ]
    },
    {
      "cell_type": "code",
      "source": [
        "!python /content/SpikeYOLO/train.py --data /content/coco_subset/coco.yaml --epochs 100 --device 0\n"
      ],
      "metadata": {
        "colab": {
          "base_uri": "https://localhost:8080/"
        },
        "id": "5zrAEocOQsDr",
        "outputId": "3caa146b-fe83-4aa7-cbea-3b0b45509936"
      },
      "execution_count": null,
      "outputs": [
        {
          "output_type": "stream",
          "name": "stdout",
          "text": [
            "2025-02-18 13:32:59.366989: E external/local_xla/xla/stream_executor/cuda/cuda_fft.cc:485] Unable to register cuFFT factory: Attempting to register factory for plugin cuFFT when one has already been registered\n",
            "2025-02-18 13:32:59.387453: E external/local_xla/xla/stream_executor/cuda/cuda_dnn.cc:8454] Unable to register cuDNN factory: Attempting to register factory for plugin cuDNN when one has already been registered\n",
            "2025-02-18 13:32:59.393618: E external/local_xla/xla/stream_executor/cuda/cuda_blas.cc:1452] Unable to register cuBLAS factory: Attempting to register factory for plugin cuBLAS when one has already been registered\n",
            "/usr/local/lib/python3.10/dist-packages/timm/models/layers/__init__.py:48: FutureWarning: Importing from timm.models.layers is deprecated, please import via timm.layers\n",
            "  warnings.warn(f\"Importing from {__name__} is deprecated, please import via timm.layers\", FutureWarning)\n",
            "/usr/local/lib/python3.10/dist-packages/timm/models/registry.py:4: FutureWarning: Importing from timm.models.registry is deprecated, please import via timm.models\n",
            "  warnings.warn(f\"Importing from {__name__} is deprecated, please import via timm.models\", FutureWarning)\n",
            "\n",
            "                   from  n    params  module                                       arguments                     \n",
            "  0                  -1  1         0  ultralytics.nn.modules.yolo_spikformer.MS_GetT[3, 3, 1]                     \n",
            "  1                  -1  1     14400  ultralytics.nn.modules.yolo_spikformer.MS_DownSampling[3, 96, 7, 4, 2, True]        \n",
            "  2                  -1  2   1425984  ultralytics.nn.modules.yolo_spikformer.MS_AllConvBlock[96, 4, 7]                    \n",
            "  3                  -1  1    166464  ultralytics.nn.modules.yolo_spikformer.MS_DownSampling[96, 192, 3, 2, 1, False]     \n",
            "  4                  -1  3   8480448  ultralytics.nn.modules.yolo_spikformer.MS_AllConvBlock[192, 4, 7]                   \n",
            "  5                  -1  1    664704  ultralytics.nn.modules.yolo_spikformer.MS_DownSampling[192, 384, 3, 2, 1, False]    \n",
            "  6                  -1  4  12074496  ultralytics.nn.modules.yolo_spikformer.MS_ConvBlock[384, 3, 7]                   \n",
            "  7                  -1  1   2656512  ultralytics.nn.modules.yolo_spikformer.MS_DownSampling[384, 768, 3, 2, 1, False]    \n",
            "  8                  -1  2  15590400  ultralytics.nn.modules.yolo_spikformer.MS_ConvBlock[768, 2, 7]                   \n",
            "  9                  -1  1   1476864  ultralytics.nn.modules.yolo_spikformer.SpikeSPPF[768, 768, 5]                 \n",
            " 10                  -1  1    295680  ultralytics.nn.modules.yolo_spikformer.MS_StandardConv[768, 384, 1, 1]              \n",
            " 11                  -1  1         0  torch.nn.modules.upsampling.Upsample         [None, (1, 2, 2), 'nearest']  \n",
            " 12                  -1  1   3018624  ultralytics.nn.modules.yolo_spikformer.MS_ConvBlock[384, 3, 7]                   \n",
            " 13             [-1, 6]  1         0  ultralytics.nn.modules.conv.Concat           [2]                           \n",
            " 14                  -1  1    147840  ultralytics.nn.modules.yolo_spikformer.MS_StandardConv[768, 192, 1, 1]              \n",
            " 15                  -1  1         0  torch.nn.modules.upsampling.Upsample         [None, (1, 2, 2), 'nearest']  \n",
            " 16                  -1  1   2826816  ultralytics.nn.modules.yolo_spikformer.MS_AllConvBlock[192, 4, 7]                   \n",
            " 17             [-1, 4]  1         0  ultralytics.nn.modules.conv.Concat           [2]                           \n",
            " 18                  -1  1     74112  ultralytics.nn.modules.yolo_spikformer.MS_StandardConv[384, 192, 1, 1]              \n",
            " 19                  -1  1   2826816  ultralytics.nn.modules.yolo_spikformer.MS_AllConvBlock[192, 4, 7]                   \n",
            " 20                  -1  1    332160  ultralytics.nn.modules.yolo_spikformer.MS_StandardConv[192, 192, 3, 2]              \n",
            " 21            [-1, 14]  1         0  ultralytics.nn.modules.conv.Concat           [2]                           \n",
            " 22                  -1  1   3018624  ultralytics.nn.modules.yolo_spikformer.MS_ConvBlock[384, 3, 7]                   \n",
            " 23                  -1  1   1327872  ultralytics.nn.modules.yolo_spikformer.MS_StandardConv[384, 384, 3, 2]              \n",
            " 24            [-1, 10]  1         0  ultralytics.nn.modules.conv.Concat           [2]                           \n",
            " 25                  -1  1   4834560  ultralytics.nn.modules.yolo_spikformer.MS_ConvBlock[768, 1, 7]                   \n",
            " 26        [19, 22, 25]  1   4264384  ultralytics.nn.modules.yolo_spikformer.SpikeDetect[80, [192, 384, 768]]         \n",
            "/usr/local/lib/python3.10/dist-packages/torch/functional.py:534: UserWarning: torch.meshgrid: in an upcoming release, it will be required to pass the indexing argument. (Triggered internally at ../aten/src/ATen/native/TensorShape.cpp:3595.)\n",
            "  return _VF.meshgrid(tensors, **kwargs)  # type: ignore[attr-defined]\n",
            "snn_YOLOv8l summary: 771 layers, 65517760 parameters, 65517744 gradients, 404.3 GFLOPs\n",
            "\n",
            "New https://pypi.org/project/ultralytics/8.3.76 available 😃 Update with 'pip install -U ultralytics'\n",
            "Ultralytics YOLOv8.0.197 🚀 Python-3.10.12 torch-2.5.1+cu121 CUDA:0 (Tesla T4, 15095MiB)\n",
            "self.save_dir /content/SpikeYOLO/runs/detect/train12\n",
            "\u001b[34m\u001b[1mengine/trainer: \u001b[0mtask=detect, mode=train, model=snn_yolov8l.yaml, data=coco.yaml, epochs=100, patience=200, batch=40, imgsz=640, save=True, save_period=-1, cache=False, device=0, workers=8, project=None, name=None, exist_ok=False, pretrained=True, optimizer=SGD, verbose=True, seed=0, deterministic=True, single_cls=False, rect=False, cos_lr=False, close_mosaic=10, resume=False, amp=True, fraction=1.0, profile=False, freeze=None, overlap_mask=True, mask_ratio=4, dropout=0.0, val=True, split=val, save_json=False, save_hybrid=False, conf=None, iou=0.7, max_det=300, half=False, dnn=False, plots=True, source=None, show=False, save_txt=False, save_conf=False, save_crop=False, show_labels=True, show_conf=True, vid_stride=1, stream_buffer=False, line_width=None, visualize=False, augment=False, agnostic_nms=False, classes=None, retina_masks=False, boxes=True, format=torchscript, keras=False, optimize=False, int8=False, dynamic=False, simplify=False, opset=None, workspace=4, nms=False, lr0=0.01, lrf=0.004, momentum=0.937, weight_decay=0.0005, warmup_epochs=10, warmup_momentum=0.8, warmup_bias_lr=0.1, box=7.5, cls=0.5, dfl=1.5, pose=12.0, kobj=1.0, label_smoothing=0.0, nbs=64, hsv_h=0.015, hsv_s=0.7, hsv_v=0.4, degrees=0.0, translate=0.1, scale=0.5, shear=0.0, perspective=0.0, flipud=0.0, fliplr=0.5, mosaic=1.0, mixup=0.0, copy_paste=0.0, cfg=None, tracker=botsort.yaml, save_dir=/content/SpikeYOLO/runs/detect/train12\n",
            "Traceback (most recent call last):\n",
            "  File \"/content/SpikeYOLO/ultralytics/engine/trainer.py\", line 120, in __init__\n",
            "    self.data = check_det_dataset(self.args.data)\n",
            "  File \"/content/SpikeYOLO/ultralytics/data/utils.py\", line 301, in check_det_dataset\n",
            "    raise FileNotFoundError(m)\n",
            "FileNotFoundError: \n",
            "Dataset 'coco.yaml' images not found ⚠️, missing path '/content/coco_subset/images/val2017'\n",
            "Note dataset download directory is '/content/datasets'. You can update this in '/root/.config/Ultralytics/settings.yaml'\n",
            "\n",
            "The above exception was the direct cause of the following exception:\n",
            "\n",
            "Traceback (most recent call last):\n",
            "  File \"/content/SpikeYOLO/train.py\", line 7, in <module>\n",
            "    model.train(data=\"coco.yaml\", device=0, epochs=100)  # Sử dụng GPU số 0\n",
            "  File \"/content/SpikeYOLO/ultralytics/engine/model.py\", line 336, in train\n",
            "    self.trainer = (trainer or self._smart_load('trainer'))(overrides=args, _callbacks=self.callbacks)\n",
            "  File \"/content/SpikeYOLO/ultralytics/engine/trainer.py\", line 124, in __init__\n",
            "    raise RuntimeError(emojis(f\"Dataset '{clean_url(self.args.data)}' error ❌ {e}\")) from e\n",
            "RuntimeError: Dataset 'coco.yaml' error ❌ \n",
            "Dataset 'coco.yaml' images not found ⚠️, missing path '/content/coco_subset/images/val2017'\n",
            "Note dataset download directory is '/content/datasets'. You can update this in '/root/.config/Ultralytics/settings.yaml'\n"
          ]
        }
      ]
    },
    {
      "cell_type": "code",
      "source": [
        "!ls -lh /content/coco_subset/images/\n"
      ],
      "metadata": {
        "colab": {
          "base_uri": "https://localhost:8080/"
        },
        "id": "1yo-cD3GSMbk",
        "outputId": "fc93df7e-635f-41ec-cd22-e4aec4cf5a50"
      },
      "execution_count": null,
      "outputs": [
        {
          "output_type": "stream",
          "name": "stdout",
          "text": [
            "total 4.0K\n",
            "drwxr-xr-x 2 root root 4.0K Feb 18 13:18 train2017\n"
          ]
        }
      ]
    },
    {
      "cell_type": "code",
      "source": [
        "!mkdir -p /content/coco_subset/images/val2017\n"
      ],
      "metadata": {
        "id": "KDvXzSLDSQWM"
      },
      "execution_count": null,
      "outputs": []
    },
    {
      "cell_type": "code",
      "source": [
        "!ls -lh /content/coco_subset/images/\n"
      ],
      "metadata": {
        "colab": {
          "base_uri": "https://localhost:8080/"
        },
        "outputId": "6e4d2d60-5f60-4115-87e3-0a53a56dbdc7",
        "id": "lRJ4ffCaSXSD"
      },
      "execution_count": null,
      "outputs": [
        {
          "output_type": "stream",
          "name": "stdout",
          "text": [
            "total 8.0K\n",
            "drwxr-xr-x 2 root root 4.0K Feb 18 13:18 train2017\n",
            "drwxr-xr-x 2 root root 4.0K Feb 18 13:39 val2017\n"
          ]
        }
      ]
    },
    {
      "cell_type": "code",
      "source": [
        "!cat /content/coco_subset/coco.yaml\n"
      ],
      "metadata": {
        "colab": {
          "base_uri": "https://localhost:8080/"
        },
        "id": "eBX0enQeSZj8",
        "outputId": "179482ab-0a53-40db-8812-62c046df2b5e"
      },
      "execution_count": null,
      "outputs": [
        {
          "output_type": "stream",
          "name": "stdout",
          "text": [
            "path: /content/coco_subset\n",
            "train: images/train2017\n",
            "val: images/val2017\n",
            "nc: 80\n",
            "names: [\"person\", \"bicycle\", \"car\", \"motorcycle\", \"airplane\", \"bus\", \"train\", \"truck\",\n",
            "        \"boat\", \"traffic light\", \"fire hydrant\", \"stop sign\", \"parking meter\", \"bench\",\n",
            "        \"bird\", \"cat\", \"dog\", \"horse\", \"sheep\", \"cow\", \"elephant\", \"bear\", \"zebra\",\n",
            "        \"giraffe\", \"backpack\", \"umbrella\", \"handbag\", \"tie\", \"suitcase\", \"frisbee\",\n",
            "        \"skis\", \"snowboard\", \"sports ball\", \"kite\", \"baseball bat\", \"baseball glove\",\n",
            "        \"skateboard\", \"surfboard\", \"tennis racket\", \"bottle\", \"wine glass\", \"cup\",\n",
            "        \"fork\", \"knife\", \"spoon\", \"bowl\", \"banana\", \"apple\", \"sandwich\", \"orange\",\n",
            "        \"broccoli\", \"carrot\", \"hot dog\", \"pizza\", \"donut\", \"cake\", \"chair\", \"couch\",\n",
            "        \"potted plant\", \"bed\", \"dining table\", \"toilet\", \"TV\", \"laptop\", \"mouse\",\n",
            "        \"remote\", \"keyboard\", \"cell phone\", \"microwave\", \"oven\", \"toaster\", \"sink\",\n",
            "        \"refrigerator\", \"book\", \"clock\", \"vase\", \"scissors\", \"teddy bear\", \"hair drier\",\n",
            "        \"toothbrush\"]\n"
          ]
        }
      ]
    },
    {
      "cell_type": "code",
      "source": [
        "!python /content/SpikeYOLO/train.py --data /content/coco_subset/coco.yaml --epochs 100 --device 0\n"
      ],
      "metadata": {
        "colab": {
          "base_uri": "https://localhost:8080/"
        },
        "id": "7wBwCc8NShr8",
        "outputId": "5c0c9fce-cefa-4b60-ca45-9e6842cd946a"
      },
      "execution_count": null,
      "outputs": [
        {
          "output_type": "stream",
          "name": "stdout",
          "text": [
            "2025-02-18 13:40:55.565301: E external/local_xla/xla/stream_executor/cuda/cuda_fft.cc:485] Unable to register cuFFT factory: Attempting to register factory for plugin cuFFT when one has already been registered\n",
            "2025-02-18 13:40:55.585376: E external/local_xla/xla/stream_executor/cuda/cuda_dnn.cc:8454] Unable to register cuDNN factory: Attempting to register factory for plugin cuDNN when one has already been registered\n",
            "2025-02-18 13:40:55.591490: E external/local_xla/xla/stream_executor/cuda/cuda_blas.cc:1452] Unable to register cuBLAS factory: Attempting to register factory for plugin cuBLAS when one has already been registered\n",
            "/usr/local/lib/python3.10/dist-packages/timm/models/layers/__init__.py:48: FutureWarning: Importing from timm.models.layers is deprecated, please import via timm.layers\n",
            "  warnings.warn(f\"Importing from {__name__} is deprecated, please import via timm.layers\", FutureWarning)\n",
            "/usr/local/lib/python3.10/dist-packages/timm/models/registry.py:4: FutureWarning: Importing from timm.models.registry is deprecated, please import via timm.models\n",
            "  warnings.warn(f\"Importing from {__name__} is deprecated, please import via timm.models\", FutureWarning)\n",
            "\n",
            "                   from  n    params  module                                       arguments                     \n",
            "  0                  -1  1         0  ultralytics.nn.modules.yolo_spikformer.MS_GetT[3, 3, 1]                     \n",
            "  1                  -1  1     14400  ultralytics.nn.modules.yolo_spikformer.MS_DownSampling[3, 96, 7, 4, 2, True]        \n",
            "  2                  -1  2   1425984  ultralytics.nn.modules.yolo_spikformer.MS_AllConvBlock[96, 4, 7]                    \n",
            "  3                  -1  1    166464  ultralytics.nn.modules.yolo_spikformer.MS_DownSampling[96, 192, 3, 2, 1, False]     \n",
            "  4                  -1  3   8480448  ultralytics.nn.modules.yolo_spikformer.MS_AllConvBlock[192, 4, 7]                   \n",
            "  5                  -1  1    664704  ultralytics.nn.modules.yolo_spikformer.MS_DownSampling[192, 384, 3, 2, 1, False]    \n",
            "  6                  -1  4  12074496  ultralytics.nn.modules.yolo_spikformer.MS_ConvBlock[384, 3, 7]                   \n",
            "  7                  -1  1   2656512  ultralytics.nn.modules.yolo_spikformer.MS_DownSampling[384, 768, 3, 2, 1, False]    \n",
            "  8                  -1  2  15590400  ultralytics.nn.modules.yolo_spikformer.MS_ConvBlock[768, 2, 7]                   \n",
            "  9                  -1  1   1476864  ultralytics.nn.modules.yolo_spikformer.SpikeSPPF[768, 768, 5]                 \n",
            " 10                  -1  1    295680  ultralytics.nn.modules.yolo_spikformer.MS_StandardConv[768, 384, 1, 1]              \n",
            " 11                  -1  1         0  torch.nn.modules.upsampling.Upsample         [None, (1, 2, 2), 'nearest']  \n",
            " 12                  -1  1   3018624  ultralytics.nn.modules.yolo_spikformer.MS_ConvBlock[384, 3, 7]                   \n",
            " 13             [-1, 6]  1         0  ultralytics.nn.modules.conv.Concat           [2]                           \n",
            " 14                  -1  1    147840  ultralytics.nn.modules.yolo_spikformer.MS_StandardConv[768, 192, 1, 1]              \n",
            " 15                  -1  1         0  torch.nn.modules.upsampling.Upsample         [None, (1, 2, 2), 'nearest']  \n",
            " 16                  -1  1   2826816  ultralytics.nn.modules.yolo_spikformer.MS_AllConvBlock[192, 4, 7]                   \n",
            " 17             [-1, 4]  1         0  ultralytics.nn.modules.conv.Concat           [2]                           \n",
            " 18                  -1  1     74112  ultralytics.nn.modules.yolo_spikformer.MS_StandardConv[384, 192, 1, 1]              \n",
            " 19                  -1  1   2826816  ultralytics.nn.modules.yolo_spikformer.MS_AllConvBlock[192, 4, 7]                   \n",
            " 20                  -1  1    332160  ultralytics.nn.modules.yolo_spikformer.MS_StandardConv[192, 192, 3, 2]              \n",
            " 21            [-1, 14]  1         0  ultralytics.nn.modules.conv.Concat           [2]                           \n",
            " 22                  -1  1   3018624  ultralytics.nn.modules.yolo_spikformer.MS_ConvBlock[384, 3, 7]                   \n",
            " 23                  -1  1   1327872  ultralytics.nn.modules.yolo_spikformer.MS_StandardConv[384, 384, 3, 2]              \n",
            " 24            [-1, 10]  1         0  ultralytics.nn.modules.conv.Concat           [2]                           \n",
            " 25                  -1  1   4834560  ultralytics.nn.modules.yolo_spikformer.MS_ConvBlock[768, 1, 7]                   \n",
            " 26        [19, 22, 25]  1   4264384  ultralytics.nn.modules.yolo_spikformer.SpikeDetect[80, [192, 384, 768]]         \n",
            "/usr/local/lib/python3.10/dist-packages/torch/functional.py:534: UserWarning: torch.meshgrid: in an upcoming release, it will be required to pass the indexing argument. (Triggered internally at ../aten/src/ATen/native/TensorShape.cpp:3595.)\n",
            "  return _VF.meshgrid(tensors, **kwargs)  # type: ignore[attr-defined]\n",
            "snn_YOLOv8l summary: 771 layers, 65517760 parameters, 65517744 gradients, 404.3 GFLOPs\n",
            "\n",
            "New https://pypi.org/project/ultralytics/8.3.76 available 😃 Update with 'pip install -U ultralytics'\n",
            "Ultralytics YOLOv8.0.197 🚀 Python-3.10.12 torch-2.5.1+cu121 CUDA:0 (Tesla T4, 15095MiB)\n",
            "self.save_dir /content/SpikeYOLO/runs/detect/train13\n",
            "\u001b[34m\u001b[1mengine/trainer: \u001b[0mtask=detect, mode=train, model=snn_yolov8l.yaml, data=coco.yaml, epochs=100, patience=200, batch=40, imgsz=640, save=True, save_period=-1, cache=False, device=0, workers=8, project=None, name=None, exist_ok=False, pretrained=True, optimizer=SGD, verbose=True, seed=0, deterministic=True, single_cls=False, rect=False, cos_lr=False, close_mosaic=10, resume=False, amp=True, fraction=1.0, profile=False, freeze=None, overlap_mask=True, mask_ratio=4, dropout=0.0, val=True, split=val, save_json=False, save_hybrid=False, conf=None, iou=0.7, max_det=300, half=False, dnn=False, plots=True, source=None, show=False, save_txt=False, save_conf=False, save_crop=False, show_labels=True, show_conf=True, vid_stride=1, stream_buffer=False, line_width=None, visualize=False, augment=False, agnostic_nms=False, classes=None, retina_masks=False, boxes=True, format=torchscript, keras=False, optimize=False, int8=False, dynamic=False, simplify=False, opset=None, workspace=4, nms=False, lr0=0.01, lrf=0.004, momentum=0.937, weight_decay=0.0005, warmup_epochs=10, warmup_momentum=0.8, warmup_bias_lr=0.1, box=7.5, cls=0.5, dfl=1.5, pose=12.0, kobj=1.0, label_smoothing=0.0, nbs=64, hsv_h=0.015, hsv_s=0.7, hsv_v=0.4, degrees=0.0, translate=0.1, scale=0.5, shear=0.0, perspective=0.0, flipud=0.0, fliplr=0.5, mosaic=1.0, mixup=0.0, copy_paste=0.0, cfg=None, tracker=botsort.yaml, save_dir=/content/SpikeYOLO/runs/detect/train13\n",
            "Downloading https://ultralytics.com/assets/Arial.ttf to '/root/.config/Ultralytics/Arial.ttf'...\n",
            "100% 755k/755k [00:00<00:00, 23.6MB/s]\n",
            "\n",
            "                   from  n    params  module                                       arguments                     \n",
            "  0                  -1  1         0  ultralytics.nn.modules.yolo_spikformer.MS_GetT[3, 3, 1]                     \n",
            "  1                  -1  1     14400  ultralytics.nn.modules.yolo_spikformer.MS_DownSampling[3, 96, 7, 4, 2, True]        \n",
            "  2                  -1  2   1425984  ultralytics.nn.modules.yolo_spikformer.MS_AllConvBlock[96, 4, 7]                    \n",
            "  3                  -1  1    166464  ultralytics.nn.modules.yolo_spikformer.MS_DownSampling[96, 192, 3, 2, 1, False]     \n",
            "  4                  -1  3   8480448  ultralytics.nn.modules.yolo_spikformer.MS_AllConvBlock[192, 4, 7]                   \n",
            "  5                  -1  1    664704  ultralytics.nn.modules.yolo_spikformer.MS_DownSampling[192, 384, 3, 2, 1, False]    \n",
            "  6                  -1  4  12074496  ultralytics.nn.modules.yolo_spikformer.MS_ConvBlock[384, 3, 7]                   \n",
            "  7                  -1  1   2656512  ultralytics.nn.modules.yolo_spikformer.MS_DownSampling[384, 768, 3, 2, 1, False]    \n",
            "  8                  -1  2  15590400  ultralytics.nn.modules.yolo_spikformer.MS_ConvBlock[768, 2, 7]                   \n",
            "  9                  -1  1   1476864  ultralytics.nn.modules.yolo_spikformer.SpikeSPPF[768, 768, 5]                 \n",
            " 10                  -1  1    295680  ultralytics.nn.modules.yolo_spikformer.MS_StandardConv[768, 384, 1, 1]              \n",
            " 11                  -1  1         0  torch.nn.modules.upsampling.Upsample         [None, (1, 2, 2), 'nearest']  \n",
            " 12                  -1  1   3018624  ultralytics.nn.modules.yolo_spikformer.MS_ConvBlock[384, 3, 7]                   \n",
            " 13             [-1, 6]  1         0  ultralytics.nn.modules.conv.Concat           [2]                           \n",
            " 14                  -1  1    147840  ultralytics.nn.modules.yolo_spikformer.MS_StandardConv[768, 192, 1, 1]              \n",
            " 15                  -1  1         0  torch.nn.modules.upsampling.Upsample         [None, (1, 2, 2), 'nearest']  \n",
            " 16                  -1  1   2826816  ultralytics.nn.modules.yolo_spikformer.MS_AllConvBlock[192, 4, 7]                   \n",
            " 17             [-1, 4]  1         0  ultralytics.nn.modules.conv.Concat           [2]                           \n",
            " 18                  -1  1     74112  ultralytics.nn.modules.yolo_spikformer.MS_StandardConv[384, 192, 1, 1]              \n",
            " 19                  -1  1   2826816  ultralytics.nn.modules.yolo_spikformer.MS_AllConvBlock[192, 4, 7]                   \n",
            " 20                  -1  1    332160  ultralytics.nn.modules.yolo_spikformer.MS_StandardConv[192, 192, 3, 2]              \n",
            " 21            [-1, 14]  1         0  ultralytics.nn.modules.conv.Concat           [2]                           \n",
            " 22                  -1  1   3018624  ultralytics.nn.modules.yolo_spikformer.MS_ConvBlock[384, 3, 7]                   \n",
            " 23                  -1  1   1327872  ultralytics.nn.modules.yolo_spikformer.MS_StandardConv[384, 384, 3, 2]              \n",
            " 24            [-1, 10]  1         0  ultralytics.nn.modules.conv.Concat           [2]                           \n",
            " 25                  -1  1   4834560  ultralytics.nn.modules.yolo_spikformer.MS_ConvBlock[768, 1, 7]                   \n",
            " 26        [19, 22, 25]  1   4264384  ultralytics.nn.modules.yolo_spikformer.SpikeDetect[80, [192, 384, 768]]         \n",
            "snn_YOLOv8l summary: 771 layers, 65517760 parameters, 65517744 gradients, 404.3 GFLOPs\n",
            "\n",
            "\u001b[34m\u001b[1mTensorBoard: \u001b[0mStart with 'tensorboard --logdir /content/SpikeYOLO/runs/detect/train13', view at http://localhost:6006/\n",
            "\u001b[34m\u001b[1mwandb\u001b[0m: Using wandb-core as the SDK backend.  Please refer to https://wandb.me/wandb-core for more information.\n",
            "\u001b[34m\u001b[1mwandb\u001b[0m: Currently logged in as: \u001b[33mchaubaokhanh1314\u001b[0m (\u001b[33mchaubaokhanh1314-uit\u001b[0m). Use \u001b[1m`wandb login --relogin`\u001b[0m to force relogin\n",
            "\u001b[34m\u001b[1mwandb\u001b[0m: Tracking run with wandb version 0.19.1\n",
            "\u001b[34m\u001b[1mwandb\u001b[0m: Run data is saved locally in \u001b[35m\u001b[1m/content/coco_subset/wandb/run-20250218_134105-h0h05ap6\u001b[0m\n",
            "\u001b[34m\u001b[1mwandb\u001b[0m: Run \u001b[1m`wandb offline`\u001b[0m to turn off syncing.\n",
            "\u001b[34m\u001b[1mwandb\u001b[0m: Syncing run \u001b[33mvaliant-feather-11\u001b[0m\n",
            "\u001b[34m\u001b[1mwandb\u001b[0m: ⭐️ View project at \u001b[34m\u001b[4mhttps://wandb.ai/chaubaokhanh1314-uit/YOLOv8\u001b[0m\n",
            "\u001b[34m\u001b[1mwandb\u001b[0m: 🚀 View run at \u001b[34m\u001b[4mhttps://wandb.ai/chaubaokhanh1314-uit/YOLOv8/runs/h0h05ap6\u001b[0m\n",
            "Freezing layer 'model.26.dfl.conv.weight'\n",
            "/content/SpikeYOLO/ultralytics/engine/trainer.py:240: FutureWarning: `torch.cuda.amp.GradScaler(args...)` is deprecated. Please use `torch.amp.GradScaler('cuda', args...)` instead.\n",
            "  self.scaler = amp.GradScaler(enabled=self.amp)\n",
            "\u001b[34m\u001b[1mtrain: \u001b[0mScanning /content/coco_subset/labels/train2017... 0 images, 100 backgrounds, 0 corrupt: 100% 100/100 [00:00<00:00, 329.48it/s]\n",
            "\u001b[34m\u001b[1mtrain: \u001b[0mWARNING ⚠️ No labels found in /content/coco_subset/labels/train2017.cache. See https://docs.ultralytics.com/datasets/detect for dataset formatting guidance.\n",
            "\u001b[34m\u001b[1mtrain: \u001b[0mNew cache created: /content/coco_subset/labels/train2017.cache\n",
            "WARNING ⚠️ No labels found in /content/coco_subset/labels/train2017.cache, training may not work correctly. See https://docs.ultralytics.com/datasets/detect for dataset formatting guidance.\n",
            "/usr/local/lib/python3.10/dist-packages/albumentations/__init__.py:24: UserWarning: A new version of Albumentations is available: 2.0.4 (you have 1.4.20). Upgrade using: pip install -U albumentations. To disable automatic update checks, set the environment variable NO_ALBUMENTATIONS_UPDATE to 1.\n",
            "  check_for_updates()\n",
            "/usr/local/lib/python3.10/dist-packages/albumentations/core/composition.py:205: UserWarning: Got processor for bboxes, but no transform to process it.\n",
            "  self._set_keys()\n",
            "\u001b[34m\u001b[1malbumentations: \u001b[0mBlur(p=0.01, blur_limit=(3, 7)), MedianBlur(p=0.01, blur_limit=(3, 7)), ToGray(p=0.01, num_output_channels=3, method='weighted_average'), CLAHE(p=0.01, clip_limit=(1.0, 4.0), tile_grid_size=(8, 8))\n",
            "Traceback (most recent call last):\n",
            "  File \"/content/SpikeYOLO/ultralytics/data/base.py\", line 118, in get_img_files\n",
            "    assert im_files, f'{self.prefix}No images found in {img_path}'\n",
            "AssertionError: \u001b[34m\u001b[1mval: \u001b[0mNo images found in /content/coco_subset/images/val2017\n",
            "\n",
            "The above exception was the direct cause of the following exception:\n",
            "\n",
            "Traceback (most recent call last):\n",
            "  File \"/content/SpikeYOLO/train.py\", line 7, in <module>\n",
            "    model.train(data=\"coco.yaml\", device=0, epochs=100)  # Sử dụng GPU số 0\n",
            "  File \"/content/SpikeYOLO/ultralytics/engine/model.py\", line 341, in train\n",
            "    self.trainer.train()\n",
            "  File \"/content/SpikeYOLO/ultralytics/engine/trainer.py\", line 193, in train\n",
            "    self._do_train(world_size)\n",
            "  File \"/content/SpikeYOLO/ultralytics/engine/trainer.py\", line 289, in _do_train\n",
            "    self._setup_train(world_size)\n",
            "  File \"/content/SpikeYOLO/ultralytics/engine/trainer.py\", line 256, in _setup_train\n",
            "    self.test_loader = self.get_dataloader(self.testset, batch_size=batch_size * 2, rank=-1, mode='val')\n",
            "  File \"/content/SpikeYOLO/ultralytics/models/yolo/detect/train.py\", line 46, in get_dataloader\n",
            "    dataset = self.build_dataset(dataset_path, mode, batch_size)\n",
            "  File \"/content/SpikeYOLO/ultralytics/models/yolo/detect/train.py\", line 40, in build_dataset\n",
            "    return build_yolo_dataset(self.args, img_path, batch, self.data, mode=mode, rect=mode == 'val', stride=gs)\n",
            "  File \"/content/SpikeYOLO/ultralytics/data/build.py\", line 80, in build_yolo_dataset\n",
            "    return YOLODataset(\n",
            "  File \"/content/SpikeYOLO/ultralytics/data/dataset.py\", line 41, in __init__\n",
            "    super().__init__(*args, **kwargs)\n",
            "  File \"/content/SpikeYOLO/ultralytics/data/base.py\", line 72, in __init__\n",
            "    self.im_files = self.get_img_files(self.img_path)\n",
            "  File \"/content/SpikeYOLO/ultralytics/data/base.py\", line 120, in get_img_files\n",
            "    raise FileNotFoundError(f'{self.prefix}Error loading data from {img_path}\\n{HELP_URL}') from e\n",
            "FileNotFoundError: \u001b[34m\u001b[1mval: \u001b[0mError loading data from /content/coco_subset/images/val2017\n",
            "See https://docs.ultralytics.com/datasets/detect for dataset formatting guidance.\n",
            "Traceback (most recent call last):\n",
            "  File \"/content/SpikeYOLO/ultralytics/data/base.py\", line 118, in get_img_files\n",
            "    assert im_files, f'{self.prefix}No images found in {img_path}'\n",
            "AssertionError: \u001b[34m\u001b[1mval: \u001b[0mNo images found in /content/coco_subset/images/val2017\n",
            "\n",
            "The above exception was the direct cause of the following exception:\n",
            "\n",
            "Traceback (most recent call last):\n",
            "  File \"/content/SpikeYOLO/train.py\", line 7, in <module>\n",
            "    model.train(data=\"coco.yaml\", device=0, epochs=100)  # Sử dụng GPU số 0\n",
            "  File \"/content/SpikeYOLO/ultralytics/engine/model.py\", line 341, in train\n",
            "    self.trainer.train()\n",
            "  File \"/content/SpikeYOLO/ultralytics/engine/trainer.py\", line 193, in train\n",
            "    self._do_train(world_size)\n",
            "  File \"/content/SpikeYOLO/ultralytics/engine/trainer.py\", line 289, in _do_train\n",
            "    self._setup_train(world_size)\n",
            "  File \"/content/SpikeYOLO/ultralytics/engine/trainer.py\", line 256, in _setup_train\n",
            "    self.test_loader = self.get_dataloader(self.testset, batch_size=batch_size * 2, rank=-1, mode='val')\n",
            "  File \"/content/SpikeYOLO/ultralytics/models/yolo/detect/train.py\", line 46, in get_dataloader\n",
            "    dataset = self.build_dataset(dataset_path, mode, batch_size)\n",
            "  File \"/content/SpikeYOLO/ultralytics/models/yolo/detect/train.py\", line 40, in build_dataset\n",
            "    return build_yolo_dataset(self.args, img_path, batch, self.data, mode=mode, rect=mode == 'val', stride=gs)\n",
            "  File \"/content/SpikeYOLO/ultralytics/data/build.py\", line 80, in build_yolo_dataset\n",
            "    return YOLODataset(\n",
            "  File \"/content/SpikeYOLO/ultralytics/data/dataset.py\", line 41, in __init__\n",
            "    super().__init__(*args, **kwargs)\n",
            "  File \"/content/SpikeYOLO/ultralytics/data/base.py\", line 72, in __init__\n",
            "    self.im_files = self.get_img_files(self.img_path)\n",
            "  File \"/content/SpikeYOLO/ultralytics/data/base.py\", line 120, in get_img_files\n",
            "    raise FileNotFoundError(f'{self.prefix}Error loading data from {img_path}\\n{HELP_URL}') from e\n",
            "FileNotFoundError: \u001b[34m\u001b[1mval: \u001b[0mError loading data from /content/coco_subset/images/val2017\n",
            "See https://docs.ultralytics.com/datasets/detect for dataset formatting guidance.\n",
            "\u001b[1;34mwandb\u001b[0m: 🚀 View run \u001b[33mvaliant-feather-11\u001b[0m at: \u001b[34mhttps://wandb.ai/chaubaokhanh1314-uit/YOLOv8/runs/h0h05ap6\u001b[0m\n",
            "\u001b[1;34mwandb\u001b[0m: Find logs at: \u001b[1;35mwandb/run-20250218_134105-h0h05ap6/logs\u001b[0m\n"
          ]
        }
      ]
    }
  ],
  "metadata": {
    "accelerator": "GPU",
    "colab": {
      "gpuType": "T4",
      "provenance": [],
      "toc_visible": true,
      "include_colab_link": true
    },
    "kernelspec": {
      "display_name": "Python 3",
      "name": "python3"
    }
  },
  "nbformat": 4,
  "nbformat_minor": 0
}